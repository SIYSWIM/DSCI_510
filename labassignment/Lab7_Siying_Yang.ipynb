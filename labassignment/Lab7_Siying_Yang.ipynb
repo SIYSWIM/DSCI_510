{
 "cells": [
  {
   "cell_type": "markdown",
   "id": "add2e43c",
   "metadata": {},
   "source": [
    "# Lab 7\n",
    "---\n",
    "Hello and welcome to Lab 7.\n",
    "\n",
    "__Guidelines:__\n",
    "\n",
    "- Please write and submit the two programs below by the deadline: Monday, March 6, at 6:00pm Pacific time\n",
    "\n",
    "- You must complete the assignments individually. If you have trouble completing the assignment, please let one of the teaching assistants (TAs) know, during the lab or their office hours. They will help and guide you, but they will not write code for you and no one else should :) !!!  \n",
    "\n",
    "- You have to fill in the code in this notebook and upload it back to Blackboard for submission. Please remember to rename your file as \"Lab7_[YOUR FIRSTNAME]_[YOUR LASTNAME].ipynb\" (e.g. Lab7_George_Washington.ipynb).\n",
    "\n",
    "- You may look up resources online like python docs and stackoverflow. You may look up topics, but not the questions themselves.\n",
    "\n",
    "- You can submit only one time. Your grade will be based on this submission."
   ]
  },
  {
   "cell_type": "markdown",
   "id": "8b938d6f",
   "metadata": {},
   "source": [
    "Q1. [10 points] \n",
    "---\n",
    "You are given a xml file such as the attached file __city.xml__. The data contains\n",
    "a list of cities with various sub-elements (e.g. _name_, _country_) and attributes (e.g. _class_).\n",
    "\n",
    "For this question, write a function with two parameters, (1) an XML file (e.g. _city.xml_) and\n",
    "(2) a filter (of type dictionary),\n",
    "that returns the list of names of cities in the XML file that fully match the filter criteria.\n",
    "\n",
    "For example, for the filter ```{ \"class\": \"A\", \"country\": \"USA\"}```,\n",
    "return the list of names of cities that are of _class A_ and in the _USA_.\n",
    "\n",
    "Assumptions: \n",
    "- You can assume that in the XML file, attribute and tag names don't overlap (e.g. _state_ cannot be both an attribute and a sub-element tag).\n",
    "- All cities will have _name_ tag. \n",
    "\n",
    "Note that the cities don't all have the same sub-elements and attributes.<br>\n",
    "Some XML city files and filters might include sub-elements and attributes not covered by the open test.\n",
    "\n",
    "Tip: While extracting the text from a tag, use __strip__ to remove empty spaces and newline characters.\n",
    "\n",
    "---\n",
    "XML documentation: https://docs.python.org/3/library/xml.etree.elementtree.html"
   ]
  },
  {
   "cell_type": "code",
   "execution_count": 3,
   "id": "66a928ec",
   "metadata": {},
   "outputs": [],
   "source": [
    "from typing import List\n",
    "import xml.etree.ElementTree as ET\n",
    "\n",
    "def filter_cities(xml_file: str, filter: dict): #-> List[str]:\n",
    "    # access data file\n",
    "    data_file = ET.parse('city.xml')\n",
    "    get_access = data_file.getroot()\n",
    "    # construct dicts\n",
    "    city_dict = {}\n",
    "    # iterate each block & return tags and attibutes\n",
    "    for city in get_access.iter('city'):\n",
    "        rank = city.get('class')\n",
    "        city_name = city.find('name').text.strip()\n",
    "        country_name = city.find('country').text.strip()\n",
    "        if city.findtext('county'):\n",
    "            county = city.findtext('county').strip()\n",
    "        else:\n",
    "            county = 'None'\n",
    "        if city.findtext('state'):\n",
    "            state = city.findtext('state').strip()\n",
    "        else:\n",
    "            state = 'None'\n",
    "        if city.get('timezone'):\n",
    "            timezone = city.get('timezone')\n",
    "        else:\n",
    "            timezone = 'None'\n",
    "        # assign to dict\n",
    "        city_dict[city_name] = {'class': rank, 'country': country_name, 'county': county, 'state': state, 'timezone': timezone}\n",
    "    # filter\n",
    "    result = []\n",
    "    for key, item in city_dict.items():\n",
    "        if all(indicator in item.items() for indicator in filter.items()):\n",
    "            result.append(key)\n",
    "    return result"
   ]
  },
  {
   "cell_type": "code",
   "execution_count": 4,
   "id": "c13505b4",
   "metadata": {},
   "outputs": [
    {
     "data": {
      "text/plain": [
       "['Los Angeles', 'New York']"
      ]
     },
     "execution_count": 4,
     "metadata": {},
     "output_type": "execute_result"
    }
   ],
   "source": [
    "# open test\n",
    "filter1 = {\"class\": \"A\", \"country\": \"USA\"}\n",
    "#filter2 = {'timezone': 'Pacific', \"country\": \"USA\"}\n",
    "filter_cities(\"city.xml\", filter1)  # should yield ['Los Angeles', 'New York']\n",
    "#filter_cities(\"city.xml\", filter2)"
   ]
  },
  {
   "cell_type": "markdown",
   "id": "719163e2",
   "metadata": {},
   "source": [
    "# Q2 [10 points]\n",
    "\n",
    "### Weather in JSON format\n",
    "\n",
    "Write a function __summarize_weather__ for files with a JSON data structure like __weather-2023-02.json__\n",
    "by reporting the station, the average daily rainfall, \n",
    "the number of cold days (i.e. the day's maximum temperature is less than 60°F), \n",
    "the lowest overall temperature as well as any notes. \n",
    "Assume temperatures to be in Fahrenheit, rainfall in inches.\n",
    "\n",
    "Sample output for _weather-2023-02.json_:\n",
    "```\n",
    "Station: Los Angeles International Airport\n",
    "Average daily rainfall: ____ inches\n",
    "Number of cold days: __ out of 10\n",
    "Lowest temperature: __°F\n",
    "Notes\n",
    " * February 19-28, 2023\n",
    " * Data retrieved on 3/1/2023\n",
    "```"
   ]
  },
  {
   "cell_type": "code",
   "execution_count": 5,
   "id": "0cdccb11",
   "metadata": {},
   "outputs": [],
   "source": [
    "import json\n",
    "def summarize_weather(filename: str) -> None:\n",
    "    json_file = filename\n",
    "    with open(json_file, 'r') as j:\n",
    "    # read content in json file\n",
    "        contents = json.loads(j.read())\n",
    "    # invoke station name\n",
    "        station_name = contents['station']\n",
    "    # invoke notes\n",
    "        notes_timeline = contents['notes'][0]\n",
    "        note_dayretrieved = contents['notes'][1]\n",
    "    # calculate the average of daily rainfall\n",
    "        data_days = len(contents['data'])\n",
    "        rain_average = []\n",
    "        for rain in contents['data'].values():\n",
    "            if 'rain' in rain.keys():\n",
    "                rain_average.append(rain['rain'])\n",
    "        total = 0\n",
    "        for i in rain_average:\n",
    "            total += i\n",
    "        daily_rain = round((total / data_days),2)\n",
    "    #number of cold days\n",
    "        cold_day_count = 0\n",
    "        for temperature in contents['data'].values():\n",
    "            if 'temp' in temperature.keys():\n",
    "                if temperature['temp']['max'] < 60:\n",
    "                    cold_day_count += 1\n",
    "    # lowest temperature\n",
    "        lowest_temperature = []\n",
    "        for temperature in contents['data'].values():\n",
    "            if 'temp' in temperature.keys():\n",
    "                lowest_temperature.append(temperature['temp']['min'])\n",
    "        lowest = min(lowest_temperature)\n",
    "    # format output\n",
    "        output = (f\"\"\"Station: {station_name}\n",
    "Average daily rainfall: {daily_rain} inches\n",
    "Number of cold days: {cold_day_count} out of 10\n",
    "Lowest temperature: {lowest}°F\n",
    "Notes\n",
    "* {notes_timeline}\n",
    "* {note_dayretrieved}\"\"\")     \n",
    "    print(output)"
   ]
  },
  {
   "cell_type": "code",
   "execution_count": 6,
   "id": "6f4fe638",
   "metadata": {},
   "outputs": [
    {
     "name": "stdout",
     "output_type": "stream",
     "text": [
      "Station: Los Angeles International Airport\n",
      "Average daily rainfall: 0.44 inches\n",
      "Number of cold days: 7 out of 10\n",
      "Lowest temperature: 41°F\n",
      "Notes\n",
      "* February 19-28, 2023\n",
      "* Data retrieved on 3/1/2023\n"
     ]
    }
   ],
   "source": [
    "# open test\n",
    "summarize_weather(\"weather-2023-02.json\")"
   ]
  },
  {
   "cell_type": "markdown",
   "id": "459a56d8",
   "metadata": {},
   "source": [
    "### Note: No Q3 this week, as there is a concurrent homework assignment."
   ]
  },
  {
   "cell_type": "markdown",
   "id": "50cd505b",
   "metadata": {},
   "source": [
    "# Bonus question [5 points]\n",
    "\n",
    "### Guessing a number\n",
    "\n",
    "You are invited to design a guessing test that generates a __random__ integer number between 1 and 15 (inclusive)\n",
    "and then repeatedly prompts the user for a guess, at each time indicating whether the guess is lower or higher than\n",
    "the randomly generated number. When the user guesses correctly, the program should\n",
    "terminate and report the number of tries the user took to guess the number correctly."
   ]
  },
  {
   "cell_type": "code",
   "execution_count": 7,
   "id": "94ad9ed6",
   "metadata": {},
   "outputs": [
    {
     "name": "stdout",
     "output_type": "stream",
     "text": [
      "Too high. Try again.\n",
      "Congratulations! You are Correct in 2 tries!\n"
     ]
    }
   ],
   "source": [
    "import random\n",
    "# generate randomly within 1-15 inclusive\n",
    "randomly_generated_number = random.randrange(1,15)\n",
    "# initialize the number of tries\n",
    "chance_count = 0\n",
    "# loop until guess correctly\n",
    "while True:\n",
    "    # input the number\n",
    "    try:\n",
    "        guess_number = int(input('Come have a try:'))\n",
    "        chance_count += 1\n",
    "        # check\n",
    "        if guess_number == randomly_generated_number:\n",
    "            if chance_count > 1:\n",
    "                print(f'Congratulations! You are Correct in {chance_count} tries!')\n",
    "                break\n",
    "            else:\n",
    "                print(f'Congratulations! You are Correct in {chance_count} try!') \n",
    "                break\n",
    "        # if too high\n",
    "        elif guess_number > randomly_generated_number:\n",
    "            print('Too high. Try again.')\n",
    "        # if too low\n",
    "        else:\n",
    "            print('Too low. Try again.')\n",
    "    except:\n",
    "        print('Please enter an integer')"
   ]
  }
 ],
 "metadata": {
  "kernelspec": {
   "display_name": "dsci510",
   "language": "python",
   "name": "python3"
  },
  "language_info": {
   "codemirror_mode": {
    "name": "ipython",
    "version": 3
   },
   "file_extension": ".py",
   "mimetype": "text/x-python",
   "name": "python",
   "nbconvert_exporter": "python",
   "pygments_lexer": "ipython3",
   "version": "3.11.0"
  },
  "vscode": {
   "interpreter": {
    "hash": "2ea40d1a6ad5e89d8176642e8255c920c61bde7146467d4c0df37471ce9849f6"
   }
  }
 },
 "nbformat": 4,
 "nbformat_minor": 5
}
