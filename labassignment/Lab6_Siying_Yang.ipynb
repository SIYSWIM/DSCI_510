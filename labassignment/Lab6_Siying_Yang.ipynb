{
 "cells": [
  {
   "cell_type": "markdown",
   "id": "9f0fe8ba",
   "metadata": {},
   "source": [
    "# Lab 6\n",
    "---\n",
    "Hello and welcome to Lab 6.\n",
    "\n",
    "__Guidelines:__\n",
    "\n",
    "- Please write and submit the two programs below by the deadline: Monday, February 27, at 6:00pm Pacific time\n",
    "\n",
    "- You must complete the assignments individually. If you have trouble completing the assignment, please let one of the teaching assistants (TAs) know, during the lab or their office hours. They will help and guide you, but they will not write code for you and no one else should :) !!!  \n",
    "\n",
    "- You have to fill in the code in this notebook and upload it back to Blackboard for submission. Please remember to rename your file as \"Lab6_[YOUR FIRSTNAME]_[YOUR LASTNAME].ipynb\" (e.g. Lab6_George_Washington.ipynb).\n",
    "\n",
    "- You may look up resources online like python docs and stackoverflow. You may look up topics, but not the questions themselves.\n",
    "\n",
    "- You can submit only one time. Your grade will be based on this submission."
   ]
  },
  {
   "cell_type": "markdown",
   "id": "692cff8c",
   "metadata": {},
   "source": [
    "# Q1 [10 points]\n",
    "### Medal standing\n",
    "\n",
    "Load a medal count file from the internet and print out the top teams sorted by performance.\n",
    "\n",
    "The input medal count file from the web can be assumed to be in csv (comma-separated values) format.<br>\n",
    "The four input data fields per team are the team's name, and its number of gold, silver, and bronze medals, e.g.\n",
    "```\n",
    "Gryffindor,10,6,5\n",
    "Hufflepuff,1,3,4\n",
    "Ravenclaw,6,7,10\n",
    "Slytherin,3,4,1\n",
    "```\n",
    "\n",
    "As an output, the function should print a medal standing of the top teams, \n",
    "with rank, team name, gold, silver, and bronze count, sorted by the teams' overall medal score \n",
    "(2 * number-of-gold-medals + 1.5 * number-of-silver-medals + 1 * number-of-bronze-medals). \n",
    "The number of top teams (e.g. 10) should be an input parameter.\n",
    "Your printout should be in a pretty format (i.e. with columns aligned).\n",
    "\n",
    "Sample print output for top 3 teams:\n",
    "```\n",
    "      Team                G  S  B\n",
    "  (1) Gryffindor         10  6  5\n",
    "  (2) Ravenclaw           6  7 10\n",
    "  (3) Slytherin           3  4  1\n",
    "```\n",
    "\n",
    "Before you start, make sure you have the _requests_ library installed:\n",
    "```\n",
    "pip install requests\n",
    "```"
   ]
  },
  {
   "cell_type": "code",
   "execution_count": 2,
   "id": "3c4cda9c",
   "metadata": {},
   "outputs": [
    {
     "name": "stdout",
     "output_type": "stream",
     "text": [
      "          Team        Gold  Silver Bronze\n",
      "(1)  United States       39     41     33\n",
      "(2)  China               38     32     18\n",
      "(3)  Russia              20     28     23\n",
      "(4)  Great Britain       22     21     22\n",
      "(5)  Japan               27     14     17\n",
      "(6)  Australia           17      7     22\n",
      "(7)  Italy               10     10     20\n",
      "(8)  Germany             10     11     16\n",
      "(9)  Netherlands         10     12     14\n",
      "(10) France              10     12     11\n",
      "(11) USC                 11      5      5\n",
      "(12) Canada               7      6     11\n",
      "(13) Brazil               7      6      8\n",
      "(14) New Zealand          7      6      7\n",
      "(15) Hungary              6      7      7\n"
     ]
    }
   ],
   "source": [
    "import requests\n",
    "def print_medal_standings(csv_url: str, n_teams: int) -> None:\n",
    "    output_format = {}\n",
    "    # download file from the web\n",
    "    try:\n",
    "        r = requests.get(csv_url)\n",
    "        text = r.text.rstrip('\\r').split('\\n')\n",
    "        # exclude header\n",
    "        for line in text[1:]:\n",
    "            # deal with empty line\n",
    "            if not line.strip():\n",
    "                continue\n",
    "            else:\n",
    "                token = line.strip('\\r').split(',')\n",
    "                score_float = [float(x) for x in token[1:]]\n",
    "                overall_score = (2 * score_float[0] + 1.5 * score_float[1] + 1 * score_float[2])\n",
    "                output_format[token[0]] = {'score': score_float, 'overall_score': overall_score}\n",
    "        # sorted by overall score\n",
    "        medal_sorted = sorted(output_format.items(), key = lambda x: x[1]['overall_score'], reverse= True)\n",
    "        count = 0\n",
    "        # print out header\n",
    "        print('{} {:^15} {:^6} {:^6} {:^6}'.format('    ', 'Team', 'Gold', 'Silver', 'Bronze'))\n",
    "        for item in medal_sorted[:n_teams]:\n",
    "            if item != '':\n",
    "                count += 1\n",
    "                # aligned\n",
    "                if count<10:\n",
    "                    medal = '({})  {:<15} {:>6} {:>6} {:>6}'.format(count, item[0], int(item[1]['score'][0]), int(item[1]['score'][1]), int(item[1]['score'][2]))\n",
    "                    print(medal)\n",
    "                elif count>=10:\n",
    "                    medal = '({}) {:<15} {:>6} {:>6} {:>6}'.format(count, item[0], int(item[1]['score'][0]), int(item[1]['score'][1]), int(item[1]['score'][2]))\n",
    "                    print(medal)\n",
    "            else:\n",
    "                break\n",
    "    except:\n",
    "        print('File cannot be opened')\n",
    "        exit()\n",
    "# open test data\n",
    "print_medal_standings(\"https://www.dropbox.com/s/dl/x80kix088xspt5v/olympic-medals-2021.csv\", 15)"
   ]
  },
  {
   "cell_type": "markdown",
   "id": "3863aeab",
   "metadata": {},
   "source": [
    "# Q2 [15 points]\n",
    "\n",
    "### Country population data\n",
    "\n",
    "The task is about extracting relevant population data from a Wikipedia table into a Python dictionary.\n",
    "\n",
    "Write the function __load_population_dict__ to load the content of https://en.wikipedia.org/wiki/List_of_countries_and_dependencies_by_population into a dictionary,\n",
    "using the country as a key, and the tuple (population_count, population_percentage) as a value.\n",
    "\n",
    "Roadmap\n",
    "* Use the _requests_ or _urllib_ library to read the content of the data file on the internet.\n",
    "* Use the _BeautifulSoup_ library to first __parse__ the content you downloaded into a _soup_ object.\n",
    "* Use the _BeautifulSoup_ library to navigate the _soup_ object and extract the info you need.\n",
    "\n",
    "Tips\n",
    "- One way to gain a quick overview if the content of an HTML webpage is to visit it in a browser (such as Chrome) and inspect the HTML code on that page through \"View Page Source\" or similar.\n",
    "\n",
    "- Note that the HTML file contains several tables, of which only one is of interest to us; one way to find the correct table is to check its caption for tell-tale signs.\n",
    "- Please ignore the row with __World__ data.\n",
    "\n",
    "FAQs: <br>\n",
    "Q. How to read/parse a website?  \n",
    "A. For that, as taught in class you would need to use libraries like BeautifulSoup, requests and/or urllib.  \n",
    "\n",
    "Q. I don't know html, what should I do?  \n",
    "A. No worries. For this lab, you only need to understand that html is another type of a language made up of tags. For example, it has heading info in the *head* tag, paragraph has *p* tag, and html links have *a* tag. So, using the tag, you can get the info you need!  \n",
    "\n",
    "Q. How do I get the tag info?  \n",
    "A. When you get your BeautifulSoup object you can do something like object.find_all('tag') or object('tag') to get all 'tag' tags.  \n",
    "\n",
    "Q. What are tag attributes and how can I access that?  \n",
    "A. HTML attributes are special words used inside the tag to control the element's behaviour. One can access attributes using the *get* function.\n",
    "\n",
    "Q. I got the tag, but what I got seems cryptic. What now?  \n",
    "A. So, once you get the info from a particular tag, you get the whole html code inside that tag. If you want some particular information from that, you would need to call functions like _get_ and _get_text_ to get the information directly without messing with the html code.  \n",
    "\n",
    "Q. I am not sure how to use these functions. Help?  \n",
    "A. You can read from the official documentation. Link: https://www.crummy.com/software/BeautifulSoup/bs4/doc/  \n",
    "\n",
    "Good Feature: Use the .prettify() feature of BeautifulSoup. You'll get a better insight of what is that you are scrapping. \n",
    "\n",
    "Before you begin, make sure you have _BeautifulSoup_ installed:\n",
    "```\n",
    "pip install bs4\n",
    "```"
   ]
  },
  {
   "cell_type": "code",
   "execution_count": 3,
   "id": "f6c7063f",
   "metadata": {},
   "outputs": [],
   "source": [
    "import requests\n",
    "from bs4 import BeautifulSoup\n",
    "import regex\n",
    "\n",
    "def load_population_dict(url: str) -> dict:\n",
    "    # extracting population data\n",
    "    r = requests.get(url)\n",
    "    s = BeautifulSoup(r.text, 'html.parser')\n",
    "    # find the table\n",
    "    table = s.find('table',{'class':'wikitable'})\n",
    "    # exclude the world data\n",
    "    rows = table.find_all('tr')[3:]\n",
    "    \n",
    "    population_dict = {}\n",
    "    for row in rows:\n",
    "        # country name\n",
    "        country = row.find('a')\n",
    "        country_name = str(regex.findall('>(.*?)<',str(country))).replace('<','').replace('>','').replace(\"['\",'').replace(\"']\",'')\n",
    "        # population count\n",
    "        population_number = row.find('td',{'style':'text-align:right'})\n",
    "        population_count = ''.join(regex.findall('d+\\,?\\d+\\,?\\d+\\,?\\d+|\\d+',str(population_number)))\n",
    "        # poopulation percentage\n",
    "        population_per = row.find('td',{'style':'text-align:right;font-size:inherit'})\n",
    "        population_percentage = regex.findall('\\d+\\.\\d+\\%|\\d+\\%', str(population_per))\n",
    "        # construct a dict\n",
    "        population_dict[country_name] = (int(population_count), population_percentage[0])\n",
    "    return population_dict"
   ]
  },
  {
   "cell_type": "code",
   "execution_count": 4,
   "id": "304f2cff",
   "metadata": {},
   "outputs": [
    {
     "name": "stdout",
     "output_type": "stream",
     "text": [
      "Australia has a population of 26,056,056, which is 0.325% of the world population.\n",
      "Brazil has a population of 215,821,734, which is 2.69% of the world population.\n",
      "China has a population of 1,411,750,000, which is 17.6% of the world population.\n",
      "Sorry, no info available for England.\n",
      "India has a population of 1,375,586,000, which is 17.2% of the world population.\n",
      "Liechtenstein has a population of 39,444, which is 0.000492% of the world population.\n",
      "Vietnam has a population of 99,460,000, which is 1.24% of the world population.\n"
     ]
    }
   ],
   "source": [
    "# open test\n",
    "def print_population_info(country: str, population_dict: dict) -> str:\n",
    "    if pop_tuple := population_dict.get(country, None):\n",
    "        pop_count, pop_percent = pop_tuple\n",
    "        print(f'{country} has a population of {pop_count:,d}, which is {pop_percent} of the world population.')\n",
    "    else:\n",
    "        print(f'Sorry, no info available for {country}.')\n",
    "       \n",
    "pop_dict = load_population_dict(\"https://en.wikipedia.org/wiki/List_of_countries_and_dependencies_by_population\")\n",
    "for country in ['Australia', 'Brazil', 'China', 'England', 'India', 'Liechtenstein', 'Vietnam']:\n",
    "    print_population_info(country, pop_dict)"
   ]
  },
  {
   "cell_type": "markdown",
   "id": "f6681bc2",
   "metadata": {},
   "source": [
    "# Q3 [5 points]\n",
    "\n",
    "Write the code for a function __is_palindrome__ that checks whether or not a given string is a palindrome or not.\n",
    "\n",
    "A palindrome is a string which reads the same backward or forward.\n",
    "\n",
    "For example, the strings __'racecar'__ or __'step on no pets'__ are palindromes."
   ]
  },
  {
   "cell_type": "code",
   "execution_count": 5,
   "id": "30375c02",
   "metadata": {},
   "outputs": [],
   "source": [
    "import re\n",
    "def is_palindrome(s: str) -> bool:\n",
    "    forwward_list = []\n",
    "    backward_list = []\n",
    "    # read forward\n",
    "    for letter in s:\n",
    "        forwward_list.append(letter)\n",
    "    # read backward\n",
    "    backward = reversed(forwward_list)\n",
    "    for letter in backward:\n",
    "        backward_list.append(letter)\n",
    "    # whether the same order\n",
    "    if forwward_list == backward_list:\n",
    "        return \"True. It's a palindrome.\"\n",
    "    else:\n",
    "        return \"False. It's not a palindrome.\"\n",
    "\n"
   ]
  },
  {
   "cell_type": "code",
   "execution_count": 6,
   "id": "d6766766",
   "metadata": {},
   "outputs": [
    {
     "name": "stdout",
     "output_type": "stream",
     "text": [
      "True. It's a palindrome.\n",
      "True. It's a palindrome.\n",
      "False. It's not a palindrome.\n"
     ]
    }
   ],
   "source": [
    "# Open test set\n",
    "print(is_palindrome(\"racecar\"))\n",
    "print(is_palindrome(\"step on no pets\"))\n",
    "print(is_palindrome(\"nurses run\"))"
   ]
  },
  {
   "cell_type": "markdown",
   "id": "b3efb9fe",
   "metadata": {},
   "source": [
    "# Bonus Question [2+2+1 points]\n",
    "\n",
    "### Compact code\n",
    "\n",
    "The _letter-diff-count_ of a pair of words is the number of letters that appear at least once in one of the two words, but not in the other. Write a function that applies the _letter-diff-count_ to two lists of words, pairwise.\n",
    "For example, in the open test case below, compare _center_ and _centre_ (with a _letter-diff-count_ of 0), then _enrollment_ and _enrolment_ etc. The _letter-diff-count_ of _color_ and _colour_ is 1, because there is 1 letter ('u'), which occurs in one word, but not the other. The _letter-diff-count_ of _defense_ and _defence_ is 2, because there are 2 letters ('c' and 's'), which occur in one word, but not the other.\n",
    "\n",
    "Sample input (2 word lists):\n",
    "```\n",
    "['center', 'enrollment', 'color', 'catalog', 'defense']\n",
    "['centre', 'enrolment', 'colour', 'catalogue', 'defence']\n",
    "```\n",
    "\n",
    "Sample output:\n",
    "```\n",
    "[0, 0, 1, 2, 2]\n",
    "```\n",
    "\n",
    "__Hint:__ You may consider using the following functions: map, zip, lambda, set, list\n",
    "\n",
    "### Points\n",
    "2 points if the code works<br>\n",
    "4 points (total) if the code works and the code (_return_ ...) fits onto a single line (not counting the _def_ line), with under 100 characters for the code line.<br>\n",
    "5 points (total) if the code works and the code line is shorter than the _def_ line. (And no, please don't even think of lengthening the _def_ line.)"
   ]
  },
  {
   "cell_type": "code",
   "execution_count": 7,
   "id": "c34cf18f",
   "metadata": {},
   "outputs": [
    {
     "name": "stdout",
     "output_type": "stream",
     "text": [
      "[0, 0, 1, 2, 2]\n"
     ]
    }
   ],
   "source": [
    "from typing import List\n",
    "def pairwise_letter_diff_counts(words1: List[str], words2: List[str]) -> List[int]:\n",
    "    return [len(i) for i in (list((set(x).symmetric_difference(set(y)) for x,y in zip(words1,words2))))]\n",
    "\n",
    "\n",
    "# open test\n",
    "american_english_words = ['center', 'enrollment', 'color', 'catalog', 'defense']\n",
    "british_english_words = ['centre', 'enrolment', 'colour', 'catalogue', 'defence']\n",
    "print(pairwise_letter_diff_counts(american_english_words, british_english_words))"
   ]
  }
 ],
 "metadata": {
  "kernelspec": {
   "display_name": "dsci510",
   "language": "python",
   "name": "python3"
  },
  "language_info": {
   "codemirror_mode": {
    "name": "ipython",
    "version": 3
   },
   "file_extension": ".py",
   "mimetype": "text/x-python",
   "name": "python",
   "nbconvert_exporter": "python",
   "pygments_lexer": "ipython3",
   "version": "3.11.0"
  },
  "vscode": {
   "interpreter": {
    "hash": "2ea40d1a6ad5e89d8176642e8255c920c61bde7146467d4c0df37471ce9849f6"
   }
  }
 },
 "nbformat": 4,
 "nbformat_minor": 5
}
