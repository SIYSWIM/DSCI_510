{
 "cells": [
  {
   "cell_type": "markdown",
   "id": "71f1b61a",
   "metadata": {},
   "source": [
    "# Lab 1b\n",
    "---\n",
    "Hello and welcome to lab 1b.\n",
    "\n",
    "__Guidelines:__\n",
    "\n",
    "- Please write the programs below and submit this notebook by the deadline: Monday, January 23, at 6:00pm Pacific time\n",
    "\n",
    "- You must complete the assignments individually. If you have trouble completing the assignment, please let one of the teaching assistants (TAs) know, during the lab or their office hours. They will help and guide you, but they will not write code for you and no one else should :) !!!  \n",
    "\n",
    "- You have to fill in the code in this notebook and upload it back to Blackboard for submission. Please remember to rename your file as \"Lab1b_[YOUR FIRSTNAME]_[YOUR LASTNAME].ipynb\" (e.g. Lab1b_George_Washington.ipynb).\n",
    "\n",
    "- You may look up resources online like python docs and stackoverflow. You may look up topics, but not the questions themselves.\n",
    "\n",
    "- From now on, we accept only one submission per student. This allows our graders to start grading as submissions come in, even before the deadline, which in turn benefits students as they will receive earlier feedback.\n",
    "\n",
    "# Functions\n",
    "\n",
    "Python has a number of built-in functions such as _print()_.<br>\n",
    "But you can define your own functions as well, and then use them repeatedly.\n",
    "\n",
    "The function defined below computes and prints the circumference of a circle. (For explanations, see below.)"
   ]
  },
  {
   "cell_type": "code",
   "execution_count": 98,
   "id": "de569dc3",
   "metadata": {},
   "outputs": [
    {
     "name": "stdout",
     "output_type": "stream",
     "text": [
      "Radius: 1 Circumference: 6.283185307179586\n",
      "Radius: 2.5 Circumference: 15.707963267948966\n"
     ]
    }
   ],
   "source": [
    "import math\n",
    "\n",
    "def circle_circumference(radius: float) -> float:\n",
    "    circumference = 2 * math.pi * radius\n",
    "    print('Radius:', radius, 'Circumference:', circumference)\n",
    "\n",
    "circle_circumference(1)\n",
    "circle_circumference(2.5)"
   ]
  },
  {
   "cell_type": "markdown",
   "id": "4e4ba5ad",
   "metadata": {},
   "source": [
    "Explanations\n",
    "- The first line imports a Python package called [math](https://docs.python.org/3/library/math.html). It provides functions such as _math.log()_ and constants such as _math.pi_ (3.14159...).\n",
    "- The keyword __def__ starts the definition of a new function. It is followed by the name of the function, _circle_circumference()_.\n",
    "- A function has 0 or more __parameters__ (inside the parentheses). In this case there is 1 parameter, _radius_.\n",
    "- Optionally, you can provide __type hints__ for the parameters and the result, such as _float_ for the parameter _radius_. Such hints can improve documentation and can help IDEs (integrated develpment environments) to find program inconsistencies. The _float_ after the -> indicates the expected result type of the function.\n",
    "- This function prints the result, with returning a value.\n",
    "- Below is a more compact version of the same function, but a little less informative."
   ]
  },
  {
   "cell_type": "code",
   "execution_count": 91,
   "id": "0f5ceefd",
   "metadata": {},
   "outputs": [
    {
     "name": "stdout",
     "output_type": "stream",
     "text": [
      "6.283185307179586\n",
      "15.707963267948966\n"
     ]
    }
   ],
   "source": [
    "import math\n",
    "\n",
    "def circle_circumference(radius):\n",
    "    print(2 * math.pi * radius)\n",
    "\n",
    "circle_circumference(1)\n",
    "circle_circumference(2.5)"
   ]
  },
  {
   "cell_type": "markdown",
   "id": "64093ca1",
   "metadata": {},
   "source": [
    "# Q1. [10 Points]\n",
    "---\n",
    "Now write your own function ___income_tax___, to compute and print the income tax based on a given income.\n",
    "\n",
    "For small incomes of 10,000 or less, no income tax is due.<br>\n",
    "For medium incomes between 10,000 and 50,000, the first 10,000 are tax free, and the remaining income above 10,000 is taxed at 15%.<br>\n",
    "For larger incomes, the first 50,000 are taxed at 6,000, and the remaining income above 50,000 is taxed at 30%. \n",
    "\n",
    "Function name: income_tax<br>\n",
    "Input: income<br>\n",
    "Print: income tax<br>\n",
    "Output/return: none\n",
    "\n",
    "Please round the income tax to 2 decimals using Python's `round()` function, for example:"
   ]
  },
  {
   "cell_type": "code",
   "execution_count": 92,
   "id": "cc6e1be9",
   "metadata": {},
   "outputs": [
    {
     "name": "stdout",
     "output_type": "stream",
     "text": [
      "5.89\n"
     ]
    }
   ],
   "source": [
    "number = 5.8888888888889\n",
    "print(round(number, 2))"
   ]
  },
  {
   "cell_type": "code",
   "execution_count": 93,
   "id": "ea42b316",
   "metadata": {},
   "outputs": [
    {
     "name": "stdout",
     "output_type": "stream",
     "text": [
      "0\n",
      "18000.0\n",
      "1500.09\n"
     ]
    }
   ],
   "source": [
    "##define function income_tax\n",
    "\n",
    "def income_tax(income):\n",
    "    if income <= 10000:\n",
    "        income = 0\n",
    "        print(round(income,2))\n",
    "    if 10000 < income <= 50000:\n",
    "        income = (income - 10000) * 0.15\n",
    "        print(round(income,2))\n",
    "    if income > 50000:\n",
    "        income = 6000 + (income - 50000) * 0.3\n",
    "        print(round(income,2))\n",
    "\n",
    "# Open test set\n",
    "income_tax(9000)      # should print: 0.0\n",
    "income_tax(90000)     # should print: 18000.0\n",
    "income_tax(20000.60)  # should print: 1500.09"
   ]
  },
  {
   "cell_type": "markdown",
   "id": "eea924f3",
   "metadata": {},
   "source": [
    "# Q2. [10 points]\n",
    "\n",
    "\n",
    "Imagine you have a list of point scores that some students achieve on this assignment, e.g. \\[28, 26, 30, 35, 35, 20\\],\n",
    "and would like to know the difference between the lowest and highest point score, e.g. 15 in the example above.\n",
    "\n",
    "Write a function that, given a list of numbers, computes and returns the difference \n",
    "between the lowest and highest number in the list.<br>\n",
    "Most functions return the result rather than print the result, because function can then be used more flexibly.\n",
    "\n",
    "Function name: max_diff<br>\n",
    "Input: 1 argument, a list of numbers<br>\n",
    "Output: number"
   ]
  },
  {
   "cell_type": "code",
   "execution_count": 94,
   "id": "b3c327ba",
   "metadata": {},
   "outputs": [
    {
     "name": "stdout",
     "output_type": "stream",
     "text": [
      "Maximum difference is: 15\n"
     ]
    }
   ],
   "source": [
    "def max_diff(point):\n",
    "    diff = max(point) - min(point)\n",
    "    return diff\n",
    "\n",
    "# open test\n",
    "points = [28, 26, 30, 35, 35, 20]\n",
    "print('Maximum difference is:', max_diff(points))   # should print: Maximum difference is: 15"
   ]
  },
  {
   "cell_type": "markdown",
   "id": "475892e2",
   "metadata": {},
   "source": [
    "# Q3. [10 points] \n",
    "\n",
    "Write a function to determine whether or not a given triangle is valid, based on the length of the 3 given sides.\n",
    "\n",
    "<img src=\"data:image/png;base64,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\">\n",
    "\n",
    "For a triangle to be valid, the sum of any two sides should be strictly greater than the third side, including, for example, a + b > c in the triangle above.\n",
    "\n",
    "Function name: triangle_is_valid<br>\n",
    "Function input: 3 arguments, all of type float<br>\n",
    "Function output type: bool\n",
    "\n",
    "```\n",
    "Example 1:  \n",
    "Input: 5, 4, 7\n",
    "Output: True\n",
    "\n",
    "Example 2:  \n",
    "Input: 10, 6, 2\n",
    "Output: False\n",
    "\n",
    "```"
   ]
  },
  {
   "cell_type": "code",
   "execution_count": 95,
   "id": "ad6af8e1",
   "metadata": {},
   "outputs": [
    {
     "name": "stdout",
     "output_type": "stream",
     "text": [
      "True\n",
      "False\n"
     ]
    }
   ],
   "source": [
    "def triangle_is_valid(a,b,c):\n",
    "    c = a+b>c and a+c>b and b+c>a\n",
    "    return c\n",
    "\n",
    "# Open test\n",
    "print(triangle_is_valid(5, 4, 7))\n",
    "print(triangle_is_valid(10, 6, 2))"
   ]
  },
  {
   "cell_type": "markdown",
   "id": "cdc14dae",
   "metadata": {},
   "source": [
    "# Q4. [5 bonus points] \n",
    "\n",
    "This question is optional. But we encourage you to do it!\n",
    "\n",
    "The following program for reading in a temperature value works fine if the user enters a number, as expected, but will __crash__ otherwise."
   ]
  },
  {
   "cell_type": "code",
   "execution_count": 96,
   "id": "bdb274e7",
   "metadata": {},
   "outputs": [
    {
     "name": "stdout",
     "output_type": "stream",
     "text": [
      "Temperature entered: 1.0 Fahrenheit\n"
     ]
    }
   ],
   "source": [
    "temp_f = float(input('Enter temperature in Fahrenheit: '))\n",
    "print('Temperature entered:', temp_f, 'Fahrenheit')"
   ]
  },
  {
   "cell_type": "markdown",
   "id": "c7e1a47c",
   "metadata": {},
   "source": [
    "Write a new robust function that reads in a number from input and __returns a float__ (not a string).<br>\n",
    "Make the new function __robust__, so that it never crashes regardless of user input.\n",
    "If the user enters a number, the new function should return that number.\n",
    "If the user enters nothing (an empty string), the new function should return `None`.\n",
    "Otherwise, the function should report to the user that the input was invalid and keep prompting \n",
    "the user until the input is a valid number or the empty string.\n",
    "You may use the standard `input()` function inside your `input_float_robust()` function."
   ]
  },
  {
   "cell_type": "code",
   "execution_count": 97,
   "id": "67d884cf",
   "metadata": {},
   "outputs": [
    {
     "name": "stdout",
     "output_type": "stream",
     "text": [
      "Temperature entered: 2.0\n"
     ]
    }
   ],
   "source": [
    "from typing import Optional\n",
    " \n",
    "def input_float_robust(prompt: str) -> Optional[float]:\n",
    "    prompt = input ('Enter temperature in Fahrenheit: ')\n",
    "    try:\n",
    "        prompt = float(prompt)\n",
    "        return prompt\n",
    "    except:\n",
    "        pass\n",
    "    if prompt == \"\" :\n",
    "        return None\n",
    "    else:\n",
    "        print(\"Invalid Input\")\n",
    "        temp_f=input('Please enter a number: ')\n",
    "        while(True):\n",
    "            try:\n",
    "                temp_f = float(temp_f)\n",
    "                return temp_f\n",
    "            except:\n",
    "                pass\n",
    "            if temp_f =='' :\n",
    "                return None\n",
    "            else:\n",
    "                print(\"Invalid Input\")\n",
    "                temp_f = input('Please enter a number:')\n",
    "\n",
    "print('Temperature entered:', input_float_robust('Enter temperature in Fahrenheit: '))"
   ]
  },
  {
   "cell_type": "markdown",
   "id": "66e4d81b",
   "metadata": {},
   "source": [
    "__Note:__ `Optional[float]` means that the output is of type `float` or `None`.<br>\n",
    "For this to work, you first have to import `Optional` from the `typing` library, as already done above."
   ]
  }
 ],
 "metadata": {
  "kernelspec": {
   "display_name": "Python 3 (ipykernel)",
   "language": "python",
   "name": "python3"
  },
  "language_info": {
   "codemirror_mode": {
    "name": "ipython",
    "version": 3
   },
   "file_extension": ".py",
   "mimetype": "text/x-python",
   "name": "python",
   "nbconvert_exporter": "python",
   "pygments_lexer": "ipython3",
   "version": "3.8.15"
  },
  "vscode": {
   "interpreter": {
    "hash": "2befdfe02518c957e8c1c49611d30f3c1e6512f9acbd292cce6a0c17a6ac95c0"
   }
  }
 },
 "nbformat": 4,
 "nbformat_minor": 5
}
