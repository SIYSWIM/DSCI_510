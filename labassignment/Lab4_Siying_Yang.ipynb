{
 "cells": [
  {
   "cell_type": "markdown",
   "id": "a38b6259",
   "metadata": {},
   "source": [
    "# Lab 4\n",
    "---\n",
    "Hello and welcome to Lab 4, featuring _crème brûlée_, huge numbers and party time in Vienna.<br>\n",
    "Support for this assignment comes to you from _regular expressions_: cryptic, compact, powerful.\n",
    "\n",
    "__Guidelines:__\n",
    "\n",
    "- Please write and submit the two programs below by the deadline: Monday, February 13, at 6:00pm Pacific time\n",
    "\n",
    "- You must complete the assignments individually. If you have trouble completing the assignment, please let one of the teaching assistants (TAs) know, during the lab or their office hours. They will help and guide you, but they will not write code for you and no one else should :) !!!  \n",
    "\n",
    "- You have to fill in the code in this notebook and upload it back to Blackboard for submission. Please remember to rename your file as \"Lab4_[YOUR FIRSTNAME]_[YOUR LASTNAME].ipynb\" (e.g. Lab4_George_Washington.ipynb).\n",
    "\n",
    "- You may look up resources online like python docs and stackoverflow. You may look up topics, but not the questions themselves.\n",
    "\n",
    "- You can submit only one time. Your grade will be based on that submission."
   ]
  },
  {
   "cell_type": "markdown",
   "id": "d93e460d",
   "metadata": {},
   "source": [
    "# Q1. [10 Points]\n",
    "\n",
    "### Unique Words\n",
    "\n",
    "Return the list of distinct words in a given text. You have to ignore any characters other than letters and spaces in the text.   \n",
    "\n",
    "You are given a function _named keep_only_letters_and_spaces()_.\n",
    "You may use it for any of the questions in the lab. \n",
    "This function takes an input string and returns the string keeping only letters and spaces.\n",
    "\n",
    "Notes: \n",
    "1. You need to remove all characters except letters and spaces.\n",
    "2. You need to regard 'How' and 'how' as the same, i.e. words are not case-sensitive. (Hint: Convert into common format.)\n",
    "3. The case of the final answer doesn't matter.\n",
    "4. The output list should be sorted.\n",
    "5. You can use set() to remove duplicates.\n",
    "\n",
    "Input: str  \n",
    "Output: list of str\n",
    "\n",
    "Examples: \n",
    "1.  \n",
    "Input: text = 'How are you?'  \n",
    "Return output: ['are', 'how', 'you']\n",
    "2.  \n",
    "Input: text = 'Can you can a can as a canner can can a can?'  \n",
    "Return output: ['a', 'as', 'can', 'canner', 'you']"
   ]
  },
  {
   "cell_type": "code",
   "execution_count": 3,
   "id": "64b69641",
   "metadata": {},
   "outputs": [],
   "source": [
    "import regex\n",
    "def keep_only_letters_and_spaces(text: str) -> str:\n",
    "    return regex.sub(r'(?V1)[\\PL&&\\PZ]', '', text)"
   ]
  },
  {
   "cell_type": "markdown",
   "id": "e24f6cd5",
   "metadata": {},
   "source": [
    "Notes regarding the function above:\n",
    "* You'll learn about advanced regexes like the one above in a future second regex lecture.\n",
    "* If you are curious: \\pL stands for any letter (including non-ASCII).\n",
    "* \\PL stands for any non-letter character. \\PZ stands for any non-space character.\n",
    "* [\\PL&&\\PZ] stands for the intersection of the two. \n",
    "* The sub() method <b>sub</b>stitutes those \"special\" characters with '', i.e. deletes them.\n",
    "* (?V1) is a special directive to invoke regex version 1 (as opposed to version 0)."
   ]
  },
  {
   "cell_type": "code",
   "execution_count": 4,
   "id": "7e56f04d",
   "metadata": {},
   "outputs": [
    {
     "name": "stdout",
     "output_type": "stream",
     "text": [
      "Crème brûlée   四十七元 before tax\n"
     ]
    }
   ],
   "source": [
    "# For illustration only. U+00A0 is the non-breakable space.\n",
    "print(keep_only_letters_and_spaces('Crème brûlée: $6.90 (₹५७०, 四十七元) [before\\u00A0tax]'))"
   ]
  },
  {
   "cell_type": "code",
   "execution_count": 14,
   "id": "2fdf721f",
   "metadata": {},
   "outputs": [],
   "source": [
    "import regex\n",
    "def keep_only_letters_and_spaces(text: str) -> str:\n",
    "    return regex.sub(r'(?V1)[\\PL&&\\PZ]', '', text)\n",
    "\n",
    "def distinct_words(text: str) -> list:\n",
    "    # not case-sensitive\n",
    "    input_str = text.lower()\n",
    "    # remove special characters\n",
    "    cleaned_str = keep_only_letters_and_spaces(input_str)\n",
    "    # split the word and add to the list\n",
    "    word_list = set(cleaned_str.split(' '))\n",
    "    #output\n",
    "    output_list = sorted(word_list)\n",
    "    return output_list"
   ]
  },
  {
   "cell_type": "code",
   "execution_count": 15,
   "id": "ed43b801",
   "metadata": {},
   "outputs": [
    {
     "name": "stdout",
     "output_type": "stream",
     "text": [
      "How are you? → ['are', 'how', 'you']\n",
      "Can you can a can as a canner can can a can? → ['a', 'as', 'can', 'canner', 'you']\n"
     ]
    }
   ],
   "source": [
    "# Open test set\n",
    "test_sentences = ['How are you?', \n",
    "                  'Can you can a can as a canner can can a can?']\n",
    "for snt in test_sentences:\n",
    "    print(snt, '→', distinct_words(snt))"
   ]
  },
  {
   "cell_type": "markdown",
   "id": "9df2a8e5",
   "metadata": {},
   "source": [
    "# Q2. [10 points]\n",
    "\n",
    "### Regex: Numbers in scientific notation\n",
    "\n",
    "When doing text document analysis, it's a common task to extract all the numbers.<br>\n",
    "We already dealt with integers and floats in class.\n",
    "\n",
    "So now, given a text, extract all numbers in scientific notation using regular expressions, and then convert them to a list of floats.\n",
    "\n",
    "__Input type:__ str. Text.<br>\n",
    "__Output type:__ list[float]. List of extracted numbers.<br>\n",
    "\n",
    "__Target output for open test set (below):__<br>\n",
    "```\n",
    "[3.86e+26, 150000000000.0]\n",
    "[-0.001]\n",
    "```"
   ]
  },
  {
   "cell_type": "code",
   "execution_count": 19,
   "id": "069b5f43",
   "metadata": {},
   "outputs": [
    {
     "name": "stdout",
     "output_type": "stream",
     "text": [
      "[3.86e+26, 150000000000.0]\n",
      "[-0.001]\n",
      "[]\n"
     ]
    }
   ],
   "source": [
    "import re\n",
    "def extract_numbers(text: str) -> list:\n",
    "    # extract numbers with 'e|E' inside\n",
    "    find_number = re.findall(r'(-?\\d+\\.\\d+[e|E]-?\\d+)',text)\n",
    "    # make numbers floats\n",
    "    floated = [float(num) for num in find_number]\n",
    "    return floated\n",
    "\n",
    "# Open test set\n",
    "texts = ['The luminosity of the Sun is about 3.86e26 watt, and the distance to earth is 1.5e11 meters.',\n",
    "         'Growth in 2020: -1.0E-03.',\n",
    "         '3e2']\n",
    "for text in texts:\n",
    "    print(extract_numbers(text))"
   ]
  },
  {
   "cell_type": "markdown",
   "id": "7b6fb60e",
   "metadata": {},
   "source": [
    "### Note: No Q3 this week, as there is a concurrent homework assignment."
   ]
  },
  {
   "cell_type": "markdown",
   "id": "200c3083",
   "metadata": {},
   "source": [
    "# Bonus Question [3+3 points]\n",
    "\n",
    "### Party time in Vienna\n",
    "\n",
    "You are a contractor for an event manager in Vienna and have to extract time expressions from an event brochure, \n",
    "with hours and minutes in 24-hour notation, hours and minutes separated by a colon or period, followed by \"Uhr\" (\"o'clock\").\n",
    "\n",
    "Write a function _extract_time_data_ that extracts time expressions from the brochure text, using regular expressions. [3 points]\n",
    "\n",
    "Then, write a follow-up function _time_in_US_format_ that renders \n",
    "the result of your previous function as a list of human-friendly time strings in US format, in Pacific time (or any other timezone).\n",
    "Time difference between Vienna and Los Angeles: 9 hours. [3 points]\n",
    "\n",
    "Example input text: 'Konzert um 19.30 Uhr (bis 23.00Uhr), danach Party bis 4:00  Uhr.'<br>\n",
    "Sample output list (in Pacific time): ['10:30 a.m.', '2:00 p.m.', '7:00 p.m.']"
   ]
  },
  {
   "cell_type": "code",
   "execution_count": 17,
   "id": "29948b70",
   "metadata": {},
   "outputs": [
    {
     "name": "stdout",
     "output_type": "stream",
     "text": [
      "['10:30 a.m.', '2:00 p.m.', '7:00 p.m.']\n"
     ]
    }
   ],
   "source": [
    "import re\n",
    "\n",
    "def extract_time_data(text: str) -> list:\n",
    "    convert_list = []\n",
    "    # extract time end with Uhr but not include Uhr\n",
    "    time_extracted = re.findall(r'\\d+[\\.|\\:]\\d+\\s*(?=Uhr)', text)\n",
    "    for time in time_extracted:\n",
    "        convert_period = re.sub(r'[\\.|\\:]', ':', time) # replace period with colon\n",
    "        convert_period = convert_period.rstrip()\n",
    "        convert_list.append(convert_period)\n",
    "    return convert_list\n",
    "\n",
    "def time_in_US_format(time_expressions: list, timezone_shift: int = 0) -> list:\n",
    "    output_list = []\n",
    "    for time in time_expressions:\n",
    "        hour, minute = map(int, time.split(':'))\n",
    "        # timezone shift\n",
    "        hour += timezone_shift\n",
    "        # 12-hour\n",
    "        if 12 <= hour < 24:\n",
    "            time_label = 'p.m.'\n",
    "            if hour > 12:\n",
    "                hour -= 12\n",
    "        elif 0 <= hour < 12:\n",
    "            time_label = 'a.m.'\n",
    "        # for those cross a day\n",
    "        elif hour >= 24: # ahead\n",
    "            time_label = 'a.m.'\n",
    "            hour = hour - 24\n",
    "        else: # behind\n",
    "            time_label = 'p.m.'\n",
    "            hour = 12 + hour\n",
    "        # format\n",
    "        US_format = '{}:{:02d} {}'.format(hour, minute, time_label)\n",
    "        output_list.append(US_format)\n",
    "    return output_list\n",
    "\n",
    "# Open test data\n",
    "text = 'Konzert um 19.30 Uhr (bis 23.00Uhr), danach Party bis 4:00  Uhr.'\n",
    "print(time_in_US_format(extract_time_data(text), -9))"
   ]
  },
  {
   "cell_type": "code",
   "execution_count": null,
   "id": "0514e23a",
   "metadata": {},
   "outputs": [],
   "source": []
  }
 ],
 "metadata": {
  "kernelspec": {
   "display_name": "base",
   "language": "python",
   "name": "python3"
  },
  "language_info": {
   "codemirror_mode": {
    "name": "ipython",
    "version": 3
   },
   "file_extension": ".py",
   "mimetype": "text/x-python",
   "name": "python",
   "nbconvert_exporter": "python",
   "pygments_lexer": "ipython3",
   "version": "3.8.5"
  },
  "vscode": {
   "interpreter": {
    "hash": "73b7da16ac4ad2c31db26f007951aef59fd6715ca3ee6f405b634393fe8cb375"
   }
  }
 },
 "nbformat": 4,
 "nbformat_minor": 5
}
