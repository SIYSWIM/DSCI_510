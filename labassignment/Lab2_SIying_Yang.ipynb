{
 "cells": [
  {
   "cell_type": "markdown",
   "id": "139291d6",
   "metadata": {},
   "source": [
    "# Lab 2\n",
    "---\n",
    "Hello and welcome to Lab 2.\n",
    "\n",
    "__Guidelines:__\n",
    "\n",
    "- Please write and submit the two programs below by the deadline: Monday, January 30, at 6:00pm Pacific time\n",
    "\n",
    "- You must complete the assignments individually. If you have trouble completing the assignment, please let one of the teaching assistants (TAs) know, during the lab or their office hours. They will help and guide you, but they will not write code for you and no one else should :) !!!  \n",
    "\n",
    "- You have to fill in the code in this notebook and upload it back to Blackboard for submission. Please remember to rename your file as \"Lab2_[YOUR FIRSTNAME]_[YOUR LASTNAME].ipynb\" (e.g. Lab2_George_Washington.ipynb).\n",
    "\n",
    "- Question 2 requires a supporting data file that you need to download from Blackboard and place in the same directory as this notebook.\n",
    "\n",
    "- You may look up resources online like python docs and stackoverflow. You may look up topics, but not the questions themselves.\n",
    "\n",
    "- You can submit only one time. Your grade will be based on this submission."
   ]
  },
  {
   "cell_type": "markdown",
   "id": "0251850d",
   "metadata": {},
   "source": [
    "Q1. [10 points]\n",
    "---\n",
    "__Good passwords__\n",
    "\n",
    "A social media platform asks the users to create account using the email and password. The platform wants to check whether the password given by the user is acceptable or not. The platform has certain regulations (listed below) for a password to be acceptable. Help the platform by implementing the algorithm to check the acceptability of the password.\n",
    "\n",
    "Given a password (string), __return__ whether the password is acceptable or not.\n",
    "\n",
    "A password is considered acceptable if __all__ conditions below are met: <br>\n",
    "1) It has at least 7 characters and at most 15 characters. <br>\n",
    "2) It must contain <br>\n",
    "- at least two lowercase letters\n",
    "- at least one uppercase letter </li>\n",
    "- at least one special character from among the following !,@,\\#,\\$,\\%,\\*\n",
    "- at least one digit\n",
    "\n",
    "3) It must <b> not </b> contain any characters other than those listed under 2) above. Not even regular spaces (' '), tab or newline characters.<br>\n",
    "\n",
    "Please fill in the password_validity function given in the cell below to implement your algorithm and return boolean, either of `True` or `False`, depending on the input.\n",
    "\n",
    "Input type: string  \n",
    "Return type: bool\n",
    "\n",
    "__Note__: Importing any python module is fine for this question. Do not import any function or python package which solves the question itself.\n",
    "\n",
    "Examples:  \n",
    "1. \n",
    "```\n",
    "Input:  badpassword\n",
    "Output: False\n",
    "```\n",
    "2. \n",
    "```\n",
    "Input: Pa*ssword!123\n",
    "Output: True\n",
    "```\n",
    "\n",
    "---\n"
   ]
  },
  {
   "cell_type": "code",
   "execution_count": 56,
   "id": "5d179ecc",
   "metadata": {},
   "outputs": [
    {
     "name": "stdout",
     "output_type": "stream",
     "text": [
      "False\n",
      "True\n"
     ]
    }
   ],
   "source": [
    "def password_acceptable(password: str) -> bool:\n",
    "    if (7 <= len(password) <= 15):\n",
    "        num_low = 0\n",
    "        num_up = 0\n",
    "        num_dig = 0\n",
    "        sym = [\"!\", \"@\", \"#\", \"$\", \"%\", \"*\"]\n",
    "        spa = [\" \", \"\\t\", \"\\n\"]\n",
    "        num_sym = 0\n",
    "        num_spa = 0\n",
    "        for i in password:\n",
    "            if i in sym:\n",
    "                num_sym += 1\n",
    "            elif i in spa:\n",
    "                num_spa += 1\n",
    "            elif i.islower():\n",
    "                num_low += 1\n",
    "            elif i.isupper():\n",
    "                num_up += 1\n",
    "            elif i.isdigit():\n",
    "                num_dig += 1\n",
    "            else:\n",
    "                return False\n",
    "        if (num_low >= 2) and (num_up >=1) and (num_dig >= 1) and (num_sym >= 1) and (num_spa == 0):\n",
    "            return True\n",
    "        else:\n",
    "            return False\n",
    "    else:\n",
    "        return False\n",
    "\n",
    "    \n",
    "print(password_acceptable('badpassword'))        # should print: False\n",
    "print(password_acceptable('Pa*ssword!123'))   # should print: True"
   ]
  },
  {
   "cell_type": "markdown",
   "id": "d1890d74",
   "metadata": {},
   "source": [
    "# Q2. [10 points] \n",
    "---\n",
    "__Weather__\n",
    "\n",
    "You are given a _txt_ file named `WeatherData.txt`. Download it and keep it in the same location where you have this notebook.\n",
    "\n",
    "For the file WeatherData.txt, you have 4 space-separated numbers per line.\n",
    "Each line represents a different day. The 4 numbers represent the following measurements:\n",
    "\n",
    "<ol>\n",
    "    <li> Day's low temperature (in Celsius)\n",
    "    <li> Day's high temperature (in Celsius)\n",
    "    <li> Humidity (in %)\n",
    "    <li> Rainfall (in inches)\n",
    "</ol>\n",
    "\n",
    "For this question, you have to analyze the weather data in the file.  \n",
    "\n",
    "You need to return a list with the following 6 variables: <br>\n",
    "1) int: Total number of days<br>\n",
    "2) int: Total number of days where rainfall is strictly greater than 0<br>\n",
    "3) float: Minimum low temperature in these days<br>\n",
    "4) float: Maximum high temperature in these days<br>\n",
    "5) float: Average humidity in these days<br>\n",
    "6) float: Average rainfall in these days\n",
    "\n",
    "\n",
    "Input: none<br>\n",
    "Output type: [int, int, float, float, float, float]"
   ]
  },
  {
   "cell_type": "code",
   "execution_count": 1,
   "id": "51c6f233",
   "metadata": {},
   "outputs": [
    {
     "name": "stdout",
     "output_type": "stream",
     "text": [
      "[4997, 1657, -3.0, 45.8, 74.6764058435061, 1.9950770462277359]\n"
     ]
    }
   ],
   "source": [
    "def weather_analysis() -> list:\n",
    "    fhand = open('WeatherData.txt','r') \n",
    "    days_total = 0\n",
    "    days_rainfall = 0\n",
    "    y_sum = 0\n",
    "    z_sum = 0\n",
    "    day_min_low = []\n",
    "    day_max_high = []\n",
    "    ave_humidity = []\n",
    "    ave_rainfall = []\n",
    "    output = [0,0,0,0,0,0]\n",
    "    day = []\n",
    "    for line in fhand:\n",
    "        days_total += 1\n",
    "        tokens = line.rstrip().split(\"\\t\")\n",
    "        tokens_float = [float(x) for x in tokens]\n",
    "        day_min_low.append(tokens_float[0])\n",
    "        day_max_high.append(tokens_float[1])\n",
    "        ave_humidity.append(tokens_float[2])\n",
    "        ave_rainfall.append(tokens_float[3])\n",
    "        if (tokens_float[3] > 0):\n",
    "            days_rainfall += 1\n",
    "    for y in ave_humidity:\n",
    "        y_sum += y\n",
    "    for z in ave_rainfall:\n",
    "        z_sum += z\n",
    "    min_tem = min(day_min_low)\n",
    "    max_tem = max(day_max_high)\n",
    "    ave_hum = y_sum / days_total\n",
    "    ave_rf = z_sum / days_total\n",
    "    output[0] = days_total\n",
    "    output[1] = days_rainfall\n",
    "    output[2] = min_tem\n",
    "    output[3] = max_tem\n",
    "    output[4] = ave_hum\n",
    "    output[5] = ave_rf\n",
    "    return output\n",
    "    fhand.close()\n",
    "\n",
    "print(weather_analysis())"
   ]
  },
  {
   "cell_type": "markdown",
   "id": "5edf9a05",
   "metadata": {},
   "source": [
    "# Q3. [10 points] \n",
    "\n",
    "__Phonetic Reduction__\n",
    "\n",
    "Write a function that phonetically reduces words such as _meter_ to _mtr_. This function might help to find phonetically similar words such as _meter_ (US) and _metre_ (UK) or _awkward_ and its misspellings _akward_ and _aucqwort_.\n",
    "\n",
    "Steps of phonetical reduction:\n",
    "<ol>\n",
    "<li> Lower-case all letters\n",
    "<li> Replace any occurrences of the following letters: \n",
    "<ol>\n",
    "    <li> 'b' to 'p'\n",
    "    <li> 'd' to 't'\n",
    "    <li> 'z' to 's'\n",
    "    <li> 'c', 'g', 'q', 'x' to 'k'\n",
    "</ol>\n",
    "<li> Remove any contiguous duplicate characters (e.g. 'll' -> 'l', 'kkk' -> 'k')\n",
    "<li> For any vowel-like letters ('a', 'e', 'i', 'o', 'u', 'h', 'w', 'y'), replace them by 'e', if they are at the beginning of the string, otherwise delete them.\n",
    "</ol>\n",
    "Input: string (e.g. 'Mississippi')<br>\n",
    "Output: string (phonetically reduced version of input string, e.g. 'mssp')\n",
    "\n",
    "Examples:\n",
    "\n",
    "* Mississippi → mssp\n",
    "* Gaddafi → ktf\n",
    "* awkward → ekrt\n",
    "* clock → klk\n"
   ]
  },
  {
   "cell_type": "code",
   "execution_count": 17,
   "id": "a102cbc2",
   "metadata": {},
   "outputs": [
    {
     "name": "stdout",
     "output_type": "stream",
     "text": [
      "ewkwerd\n",
      "ewkwerd\n",
      "ekerd\n"
     ]
    }
   ],
   "source": [
    "vowel = ['a', 'e', 'i', 'o', 'u', 'h', 'w', 'y']\n",
    "Clean_Str = ''\n",
    "trans = 'awkward'\n",
    "for i in range(len(trans)):\n",
    "        if i == 0 or trans[i] != trans[i-1]:\n",
    "            Clean_Str += trans[i]\n",
    "for n in vowel:\n",
    "    if n == Clean_Str[0]:\n",
    "        Clean_Str = Clean_Str.replace(n, 'e')\n",
    "        print(Clean_Str)\n",
    "    elif n in Clean_Str[1:]:\n",
    "        Clean_Str = Clean_Str.replace(n, '')\n",
    "        print(Clean_Str)"
   ]
  },
  {
   "cell_type": "code",
   "execution_count": 18,
   "id": "b6e5660c",
   "metadata": {},
   "outputs": [
    {
     "name": "stdout",
     "output_type": "stream",
     "text": [
      "Mississippi mssp\n",
      "Gaddafi ktf\n",
      "awkward krt\n",
      "aucqwort ekrt\n",
      "meter mtr\n",
      "metre mtr\n",
      "ton tn\n",
      "tonne tn\n",
      "Mehmet mmt\n",
      "Mohamed mmt\n",
      "Muhammad mmt\n",
      "Susie ss\n",
      "Suzy ss\n"
     ]
    }
   ],
   "source": [
    "def phonetic_reduction(s: str) -> str:\n",
    "    lower = s.lower()\n",
    "    Clean_Str = ''\n",
    "    vowel = ['a', 'e', 'i', 'o', 'u', 'h', 'w', 'y']\n",
    "    trans = lower.replace('b','p').replace('d','t').replace('z','s').replace('c','k').replace('g','k').replace('q','k').replace('x','k')\n",
    "    for i in range(len(trans)):\n",
    "        if i == 0 or trans[i] != trans[i-1]:\n",
    "            Clean_Str += trans[i]\n",
    "    for n in vowel:\n",
    "        if n in Clean_Str[1:]:\n",
    "            Clean_Str = Clean_Str.replace(n, '')\n",
    "        elif n == Clean_Str[0]:\n",
    "            Clean_Str = Clean_Str.replace(n, 'e')\n",
    "    return Clean_Str\n",
    "for name in ['Mississippi', 'Gaddafi', 'awkward', 'aucqwort',\n",
    "             'meter', 'metre', 'ton', 'tonne', \n",
    "             'Mehmet', 'Mohamed', 'Muhammad', 'Susie', 'Suzy']:\n",
    "    print(name, phonetic_reduction(name))"
   ]
  },
  {
   "cell_type": "markdown",
   "id": "522363f2",
   "metadata": {},
   "source": [
    "# Q4. [5 bonus points] \n",
    "\n",
    "This question is optional. But we encourage you to do it!"
   ]
  },
  {
   "cell_type": "markdown",
   "id": "5e13ef63",
   "metadata": {},
   "source": [
    "Given a list of words, \n",
    "map these words to their phonetic reductions \n",
    "using your function _phonetic_reduction_ from Q3,\n",
    "and print out a sorted and formatted table.<br>\n",
    "The table shall have two columns: (1) original word and (2) its phonetic reduction.<br>\n",
    "The table shall be sorted by phonetic reducation first, and by original word second (for words that share a phonetic reduction).<br>\n",
    "The items in all columns should be aligned.\n",
    "\n",
    "Recommended study: notebooks `week4.ipynb` (slightly augmented from lecture) and `string-formatting.ipynb` on Blackboard->Lectures"
   ]
  },
  {
   "cell_type": "code",
   "execution_count": 8,
   "id": "ac156971",
   "metadata": {},
   "outputs": [
    {
     "name": "stdout",
     "output_type": "stream",
     "text": [
      "John     jn      \n",
      "Jon      jn      \n",
      "Mohamed  mmt     \n",
      "Muhammad mmt     \n",
      "Monty    mnt     \n"
     ]
    }
   ],
   "source": [
    "def print_sorted_formatted_phonetic_reductions(words: list) -> None:\n",
    "    #sorted by function first\n",
    "    words = sorted(words, key = lambda word: (phonetic_reduction(word), word))\n",
    "    result = None\n",
    "    #format standard\n",
    "    max_length = max(len(n) for n in words)\n",
    "    for word in words:\n",
    "        word_reduce = phonetic_reduction(word)\n",
    "        result = \"{:<{}} {:<{}}\".format(word,max_length,word_reduce,max_length)\n",
    "        print(result)\n",
    "\n",
    "print_sorted_formatted_phonetic_reductions(['Muhammad', 'Jon', 'Monty', 'Mohamed', 'John'])"
   ]
  },
  {
   "cell_type": "markdown",
   "id": "242449de",
   "metadata": {},
   "source": [
    "Example output for open test above:\n",
    "```\n",
    "John     jn\n",
    "Jon      jn\n",
    "Mohamed  mmt\n",
    "Muhammad mmt\n",
    "Monty    mnt\n",
    "```"
   ]
  }
 ],
 "metadata": {
  "kernelspec": {
   "display_name": "Python 3 (ipykernel)",
   "language": "python",
   "name": "python3"
  },
  "language_info": {
   "codemirror_mode": {
    "name": "ipython",
    "version": 3
   },
   "file_extension": ".py",
   "mimetype": "text/x-python",
   "name": "python",
   "nbconvert_exporter": "python",
   "pygments_lexer": "ipython3",
   "version": "3.8.15"
  },
  "vscode": {
   "interpreter": {
    "hash": "2befdfe02518c957e8c1c49611d30f3c1e6512f9acbd292cce6a0c17a6ac95c0"
   }
  }
 },
 "nbformat": 4,
 "nbformat_minor": 5
}
