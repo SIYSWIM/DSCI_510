{
 "cells": [
  {
   "cell_type": "markdown",
   "id": "07206aea",
   "metadata": {},
   "source": [
    "# Lab 5\n",
    "---\n",
    "Hello and welcome to Lab 5.\n",
    "\n",
    "__Guidelines:__\n",
    "\n",
    "- Please write and submit the two programs below by the deadline: Monday, February 20, at 6:00pm Pacific time\n",
    "\n",
    "- You must complete the assignments individually. If you have trouble completing the assignment, please let one of the teaching assistants (TAs) know, during the lab or their office hours. They will help and guide you, but they will not write code for you and no one else should :) !!!  \n",
    "\n",
    "- You have to fill in the code in this notebook and upload it back to Blackboard for submission. Please remember to rename your file as \"Lab5_[YOUR FIRSTNAME]_[YOUR LASTNAME].ipynb\" (e.g. Lab5_George_Washington.ipynb).\n",
    "\n",
    "- You may look up resources online like python docs and stackoverflow. You may look up topics, but not the questions themselves.\n",
    "\n",
    "- You can submit only one time. Your grade will be based on this submission."
   ]
  },
  {
   "cell_type": "markdown",
   "id": "29a9dad4",
   "metadata": {},
   "source": [
    "# Q1. Social Media User [10 points]\n",
    "\n",
    "In social network platforms such as Facebook, Twitter and YouTube, users can follow each other.\n",
    "\n",
    "Build a _class_ __User__ with the following methods inside the __User__ class."
   ]
  },
  {
   "cell_type": "code",
   "execution_count": 1,
   "id": "44c8445f",
   "metadata": {},
   "outputs": [],
   "source": [
    "class User:\n",
    "    def __init__(self, name: str):\n",
    "        self.name = name\n",
    "        self.following_dict = {} # key:self.name; value: users that 'self' follows\n",
    "        self.followedby_dict = {} # key: other.name; value: self name\n",
    "        self.following_list = [] # list of users that 'self' follows\n",
    "        self.followedby_list = [] # list of users that follow 'self'\n",
    "    def follow(self, other) -> None:  \n",
    "        # 'self' now follows 'other'\n",
    "        self.following_list.append(other.name) # add others into list followed by 'self'\n",
    "        if self.name not in other.followedby_list:\n",
    "            other.followedby_list.append(self.name) # add self as a follower to the other\n",
    "        self.following_dict[self.name] = self.following_list\n",
    "        other.followedby_dict[other.name] = other.followedby_list\n",
    "    def unfollow(self, other) -> None:  \n",
    "        # 'self' no longer follows 'other'\n",
    "        if other.name in self.following_list:\n",
    "            # remove others from the following list\n",
    "            self.following_list.remove(other.name)\n",
    "            # remove self from the followedby list\n",
    "            other.followedby_list.remove(self.name)\n",
    "        else:\n",
    "            pass\n",
    "\n",
    "    def list_following(self) -> list[str]:  \n",
    "        # return a list of other users that 'self' follows, sorted by alphabetical order.\n",
    "        self.following_list = sorted(self.following_list)\n",
    "        return self.following_list\n",
    "\n",
    "    def list_followed_by(self) -> list[str]:  \n",
    "        # return a list of other users that follow 'self', sorted by alphabetical order.\n",
    "        self.followedby_list = sorted(self.followedby_list)\n",
    "        return self.followedby_list"
   ]
  },
  {
   "cell_type": "code",
   "execution_count": 2,
   "id": "a3356158",
   "metadata": {},
   "outputs": [
    {
     "name": "stdout",
     "output_type": "stream",
     "text": [
      "['Bob', 'Tom']\n",
      "[]\n",
      "['Tom']\n",
      "['Alice']\n",
      "[]\n",
      "['Alice', 'Bob']\n",
      "[]\n",
      "['Alice']\n"
     ]
    }
   ],
   "source": [
    "# open test\n",
    "\n",
    "alice = User(\"Alice\")\n",
    "bob = User(\"Bob\")\n",
    "tom = User(\"Tom\")\n",
    "\n",
    "alice.follow(tom)\n",
    "alice.follow(bob)\n",
    "bob.follow(tom)\n",
    "\n",
    "print(alice.list_following()) # should be: [\"Bob\", \"Tom\"]\n",
    "print(alice.list_followed_by()) # should be: []\n",
    "print(bob.list_following()) # shoud be: [\"Tom\"]\n",
    "print(bob.list_followed_by()) # shoud be: [\"Alice\"]\n",
    "print(tom.list_following()) # shoud be: []\n",
    "print(tom.list_followed_by()) # shoud be: [\"Alice\", \"Bob\"]\n",
    "\n",
    "bob.unfollow(alice)\n",
    "bob.unfollow(bob)\n",
    "bob.unfollow(tom)\n",
    "\n",
    "print(bob.list_following()) # should be: []\n",
    "print(bob.list_followed_by()) # should be: [\"Alice\"]"
   ]
  },
  {
   "cell_type": "markdown",
   "id": "4c7c0dd5",
   "metadata": {},
   "source": []
  },
  {
   "cell_type": "markdown",
   "id": "ecf47a2b",
   "metadata": {},
   "source": [
    "# Q2. Item, Customer, GoldStarCustomer [10 points]\n",
    "\n",
    "Many e-commerce websites and stores require a way to store information about their products and various attributes related to it like units, price per unit, date manufactured; as well as information about users, including a name and the current cart content.\n",
    "\n",
    "Create these three classes\n",
    "* __Item__ (with attributes: item_name: str, item_code: str, price_per_unit: float)\n",
    "    * methods: constructor\n",
    "* __Customer__ (with attributes: name: str, customer_id: str, cart: \\<your-choice\\>)\n",
    "    * methods: constructor, add_to_cart, remove_from_cart, cart_total_price\n",
    "* __GoldStarCustomer__ are a sub-class of Customer; they get a 3% discount for purchases over 50\n",
    "    * as above, but with a modified cart_total_price\n",
    "   \n",
    "---\n",
    "\n",
    "### Item\n",
    "\n",
    "First, you need to implement the __Item__ Class with three attributes: __item_name__, __item_code__ and __price_per_unit.__ You only need to write the constructor method with the required attributes.\n",
    "\n",
    "---\n",
    "\n",
    "### Customer\n",
    "\n",
    "Next, as the main task, you need to implement the __Customer__ Class with the following functionalities. \n",
    "\n",
    "1. Customer class should have three attributes: name, customer_id, cart.\n",
    "\n",
    "2. Data structure for __cart__ attribute should be chosen wisely to store objects of __Item__ Class defined in previous question.\n",
    "\n",
    "3. The Class should have __add_to_cart__ method. This will take two parameters: \n",
    "    * *item*: object of Class Item\n",
    "    * *quantity*: non-negative int.\n",
    "    * If item is not in cart, create a new entry.\n",
    "    * If item is already in cart, increase its number by the new quantity.\n",
    "\n",
    "\n",
    "4. The Class should have __remove_from_cart__ method. This will take two parameters: \n",
    "    * *item*: object of Class Item\n",
    "    * *quantity*: non-negative int.\n",
    "    * If item is not in cart, do nothing.\n",
    "    * If item is in cart and if quantity to be removed is equal or larger than existing quantity, remove this item from cart. Otherwise, its new quantity is the remaining quantity after subtraction.\n",
    "\n",
    "5. The class should have __cart_total__ method. This will not take any parameters.\n",
    "    * Return a (rounded) float variable of the grand total of all items in the cart.\n",
    "    * Item’s unit price may be changed after it has been added to cart (like Amazon). The calculation should use the latest price for each item.\n",
    "\n",
    "---\n",
    "### GoldStarCustomer\n",
    "\n",
    "This class is a sub-class of the above Customer class (class inheritance).\n",
    "\n",
    "Gold Star Customers have a benefit that if they spend 50 or more, they will get 3% off the entire purchase.\n",
    "The GoldStarCustomer class conceptually is a template for all Gold Star Customers. You need to implement the class with these requirements:\n",
    "\n",
    "1. They inherit attributes and methods from the Customer class.\n",
    "2. The __cart_total__ method shoud be overriden as per above mentioned rule."
   ]
  },
  {
   "cell_type": "code",
   "execution_count": 3,
   "id": "e2bc67d6",
   "metadata": {},
   "outputs": [],
   "source": [
    "class Item:\n",
    "    def __init__(self, name: str, code: str, price: float) -> None:\n",
    "        self.item_name = name\n",
    "        self.item_code = code\n",
    "        self.price_per_unit = price\n",
    "\n",
    "class Customer:\n",
    "    def __init__(self, name: str, id: str) -> None:\n",
    "        self.name = name\n",
    "        self.customer_id = id\n",
    "        self.cart = {}\n",
    "    def add_to_cart(self, item: Item, quantity: int) -> None:\n",
    "        # non-negative int\n",
    "        try:\n",
    "            if quantity >= 0:\n",
    "                # index according to the item's name\n",
    "                if item.item_name not in self.cart.keys():\n",
    "                    # access to the item object as the cart_total method requires no parameters\n",
    "                    self.cart[item.item_name] = {'item_access': item, 'quantity': quantity}\n",
    "                else:\n",
    "                    self.cart[item.item_name]['quantity'] += quantity\n",
    "        except:\n",
    "            return 'Please enter a non-negative int'\n",
    "    def remove_from_cart(self, item: Item, quantity: int) -> None:\n",
    "        # non-negative int\n",
    "        try:\n",
    "            if quantity >= 0:\n",
    "                if item.item_name in self.cart.keys():\n",
    "                    # delete the item if quantity exceeds\n",
    "                    if quantity >= self.cart[item.item_name]['quantity']:\n",
    "                        self.cart.pop(item.item_name)\n",
    "                    else:\n",
    "                        self.cart[item.item_name]['quantity'] -= quantity\n",
    "                else:\n",
    "                    pass\n",
    "        except:\n",
    "            return 'Please enter a non-negative int'\n",
    "    def cart_total(self) -> float:\n",
    "        total_count = 0\n",
    "        for name in self.cart:\n",
    "            item = self.cart[name]['item_access'] # access to the item object for the latest price\n",
    "            quantity = self.cart[name]['quantity']\n",
    "            total_count += quantity * item.price_per_unit\n",
    "        return round(total_count,2)\n",
    "\n",
    "class GoldStarCustomer(Customer): #inheritance\n",
    "    def cart_total(self):\n",
    "        total_count = 0\n",
    "        for name in self.cart:\n",
    "            item = self.cart[name]['item_access'] # access to the item object for the latest price\n",
    "            quantity = self.cart[name]['quantity']\n",
    "            total_count += quantity * item.price_per_unit\n",
    "        # the Gold Star Cutsomers' benefit\n",
    "        if total_count >= 50:\n",
    "            total_count = total_count * (1 - 0.03)\n",
    "        return round(total_count,2)\n"
   ]
  },
  {
   "cell_type": "markdown",
   "id": "02534967",
   "metadata": {},
   "source": [
    "### Open Test"
   ]
  },
  {
   "cell_type": "code",
   "execution_count": 4,
   "id": "6111cc87",
   "metadata": {},
   "outputs": [
    {
     "name": "stdout",
     "output_type": "stream",
     "text": [
      "Milk price: 10.5\n",
      "Egg item code: 998\n"
     ]
    }
   ],
   "source": [
    "# open test for class Item\n",
    "\n",
    "item1 = Item(\"milk\", \"999\", 10.5)\n",
    "item2 = Item(\"egg\", \"998\", 1.25)\n",
    "print(\"Milk price:\", item1.price_per_unit)\n",
    "print(\"Egg item code:\", item2.item_code)"
   ]
  },
  {
   "cell_type": "markdown",
   "id": "397064fc",
   "metadata": {},
   "source": [
    "Expected output:\n",
    "```\n",
    "Milk price: 10.5\n",
    "Egg item code: 998\n",
    "```"
   ]
  },
  {
   "cell_type": "code",
   "execution_count": 5,
   "id": "e6c8411a",
   "metadata": {},
   "outputs": [
    {
     "name": "stdout",
     "output_type": "stream",
     "text": [
      "Customer Bob cart total: 102.25\n",
      "Customer Bob ID: 100\n"
     ]
    }
   ],
   "source": [
    "# open test for class Customer\n",
    "\n",
    "item1.price_per_unit = 10.5\n",
    "customer1 = Customer(\"Bob\", \"100\")\n",
    "customer1.add_to_cart(item1, 10)\n",
    "customer1.add_to_cart(item2, 5)\n",
    "item1.price_per_unit += 1.5\n",
    "customer1.remove_from_cart(item1, 2)\n",
    "print(\"Customer Bob cart total:\", customer1.cart_total())\n",
    "print(\"Customer Bob ID:\", customer1.customer_id)"
   ]
  },
  {
   "cell_type": "markdown",
   "id": "a230c1f0",
   "metadata": {},
   "source": [
    "Expected output:\n",
    "```\n",
    "Customer Bob cart total: 102.25\n",
    "Customer Bob ID: 100\n",
    "```"
   ]
  },
  {
   "cell_type": "code",
   "execution_count": 6,
   "id": "341b161e",
   "metadata": {},
   "outputs": [
    {
     "name": "stdout",
     "output_type": "stream",
     "text": [
      "Customer cart total: 101.85\n",
      "Customer John ID: 101\n"
     ]
    }
   ],
   "source": [
    "# open test for class GoldStarCustomer\n",
    " \n",
    "item1.price_per_unit = 10.5\n",
    "customer2 = GoldStarCustomer(\"John\", \"101\")\n",
    "customer2.add_to_cart(item1, 10)\n",
    "customer2.add_to_cart(item2, 5)\n",
    "customer2.remove_from_cart(item1, 1)\n",
    "customer2.add_to_cart(item2, 1)\n",
    "item2.price_per_unit += 0.5\n",
    "print(\"Customer cart total:\",customer2.cart_total())\n",
    "print(\"Customer John ID:\", customer2.customer_id)"
   ]
  },
  {
   "cell_type": "markdown",
   "id": "a08b2d23",
   "metadata": {},
   "source": [
    "Expected output:\n",
    "```\n",
    "Customer cart total: 101.85\n",
    "Customer John ID: 101\n",
    "```"
   ]
  },
  {
   "cell_type": "markdown",
   "id": "b1cdc895",
   "metadata": {},
   "source": [
    "# Q3. Regular expressions [5+5 points]\n",
    "\n",
    "## Counting Chinese characters\n",
    "\n",
    "Using regular expressions, count the number of Chinese characters in a string.\n",
    "Do not include punctuation or spaces.\n",
    "\n",
    "Expected output for open test: 4 and 33.\n",
    "\n",
    "Useful resource: _Script support_ under https://www.isi.edu/~ulf/teaching/python.html"
   ]
  },
  {
   "cell_type": "code",
   "execution_count": 5,
   "id": "339fabfa",
   "metadata": {},
   "outputs": [
    {
     "name": "stdout",
     "output_type": "stream",
     "text": [
      "4\n",
      "33\n"
     ]
    }
   ],
   "source": [
    "import regex\n",
    "def count_Chinese_characters(s: str) -> int:\n",
    "    #chinese_characters_cleaned = \n",
    "    chinese_characters = regex.findall('[\\u4e00-\\u9fff]', s)\n",
    "    count = 0\n",
    "    for i in chinese_characters:\n",
    "        count += 1\n",
    "    return count\n",
    "\n",
    "# open test\n",
    "sentences = ['Crème brûlée: $6.90 (₹५७०, 四十七元) [before\\u00A0tax]',\n",
    "             \"南加州大学，简称南加大，也译作南加利福尼亚大学，位于美国加州洛杉矶市中心。\"]\n",
    "for snt in sentences:\n",
    "    print(count_Chinese_characters(snt))"
   ]
  },
  {
   "cell_type": "markdown",
   "id": "3d11bdc2",
   "metadata": {},
   "source": [
    "## Date conversion\n",
    "\n",
    "Using regular expressions with backreferences, convert British style dates such as _6 February 1952_ (day month year) to US-style dates such as _February 6, 1952_ (month day, year), leaving the rest of the sentence intact.\n",
    "\n",
    "For dates, days should not range outside 1-31, years should not range outside 1000-2999.\n",
    "You may assume that month names are fully spelled out. You don't have to process other formats.\n",
    "\n",
    "Expected output for open test case:<br>\n",
    "```\n",
    "Elizabeth II reigned from February 6, 1952 to September 8, 2022.\n",
    "The airline's fleet includes 40 Boeing 747 airplanes.\n",
    "```\n",
    "\n",
    "Useful resource: _Backreferences_ under https://www.isi.edu/~ulf/teaching/python.html"
   ]
  },
  {
   "cell_type": "code",
   "execution_count": 4,
   "id": "57238e12",
   "metadata": {},
   "outputs": [
    {
     "name": "stdout",
     "output_type": "stream",
     "text": [
      "Elizabeth II reigned from February 6, 1952 to September 8, 2022.\n",
      "The airline's fleet includes 40 Boeing 747 airplanes.\n"
     ]
    }
   ],
   "source": [
    "import regex\n",
    "def dates_to_US_format(s: str) -> str:\n",
    "    # days within range (1-31); years within range (1000-2999)\n",
    "    us_style = regex.sub(r'\\b([1-9]|[12]\\d|3[0-1])\\b\\s+\\b(January|February|March|April|May|June|July|August|September|October|November|December)\\b\\s+\\b([1-2][0-9][0-9][0-9])\\b', r'\\2 \\1, \\3',s)\n",
    "    return us_style\n",
    "# open test\n",
    "sentences = [\"Elizabeth II reigned from 6 February 1952 to 8 September 2022.\",\n",
    "             \"The airline's fleet includes 40 Boeing 747 airplanes.\"]\n",
    "for snt in sentences:\n",
    "    print(dates_to_US_format(snt))"
   ]
  },
  {
   "cell_type": "markdown",
   "id": "535aa27a",
   "metadata": {},
   "source": [
    "# Bonus question [5 points]\n",
    "\n",
    "## Price conversion\n",
    "\n",
    "Using regular expressions, convert prices from Euros to US dollars.<br>\n",
    "You may assume Euro prices to be in regular Euro sign format, e.g. €1.50 or €25\n",
    "\n",
    "Expected output for open test: \n",
    "```\n",
    "Prices fell from $24.08 to $20.33 over the last week.\n",
    "My dinner bill was $123.45 on Febr. 14.\n",
    "```\n",
    "\n",
    "Useful resource: _Simple glosser_ under https://www.isi.edu/~ulf/teaching/python.html"
   ]
  },
  {
   "cell_type": "code",
   "execution_count": 3,
   "id": "58f730c4",
   "metadata": {},
   "outputs": [
    {
     "name": "stdout",
     "output_type": "stream",
     "text": [
      "Prices fell from $24.08 to $20.33 over the last week.\n",
      "My dinner bill was $123.45 on Febr. 14.\n"
     ]
    }
   ],
   "source": [
    "import regex\n",
    "def convert_prices_from_EUR_to_USD(s: str, exchange_rate: float) -> str:\n",
    "    # As of 2/16/2023, the Euro-US exchange_rate is 1.07\n",
    "    # extract numbers with €\n",
    "    find_number = regex.findall(r'((?<=\\€)\\d+\\.?\\d+)',s)\n",
    "    replace_number = regex.sub(r'((?<=\\€)\\d+\\.?\\d+)', '{}', s)\n",
    "    # convert between Euor-US\n",
    "    exchanged = []\n",
    "    for i in find_number:\n",
    "        money_convert = round(float(i) * 1.07,2)\n",
    "        exchanged.append(money_convert)\n",
    "    # change the number\n",
    "    final_sentence = replace_number.format(*exchanged)\n",
    "    # change the currency\n",
    "    final_sentence = regex.sub(r'(\\€)', '$',final_sentence)\n",
    "    return final_sentence\n",
    "\n",
    "# open test\n",
    "sentences = [\"Prices fell from €22.50 to €19 over the last week.\",\n",
    "             \"My dinner bill was $123.45 on Febr. 14.\"]\n",
    "for snt in sentences:\n",
    "    print(convert_prices_from_EUR_to_USD(snt, 1.07))"
   ]
  }
 ],
 "metadata": {
  "kernelspec": {
   "display_name": "Python 3",
   "language": "python",
   "name": "python3"
  },
  "language_info": {
   "codemirror_mode": {
    "name": "ipython",
    "version": 3
   },
   "file_extension": ".py",
   "mimetype": "text/x-python",
   "name": "python",
   "nbconvert_exporter": "python",
   "pygments_lexer": "ipython3",
   "version": "3.9.6"
  },
  "vscode": {
   "interpreter": {
    "hash": "31f2aee4e71d21fbe5cf8b01ff0e069b9275f58929596ceb00d14d90e3e16cd6"
   }
  }
 },
 "nbformat": 4,
 "nbformat_minor": 5
}
