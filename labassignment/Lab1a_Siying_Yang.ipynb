{
 "cells": [
  {
   "cell_type": "code",
   "execution_count": 1,
   "metadata": {
    "pycharm": {
     "name": "#%%\n"
    }
   },
   "outputs": [
    {
     "name": "stdout",
     "output_type": "stream",
     "text": [
      "hello, world!\n"
     ]
    }
   ],
   "source": [
    "#First Python Program\n",
    "print(\"hello, world!\")"
   ]
  },
  {
   "cell_type": "code",
   "execution_count": null,
   "metadata": {
    "pycharm": {
     "name": "#%%\n"
    }
   },
   "outputs": [],
   "source": [
    "#Second Python Program\n",
    "print(\"Enter temperature in Fahrenheit:\")\n",
    "temp_f = float(input())\n",
    "temp_c = (temp_f - 32) * 5 / 9\n",
    "print(temp_f, \"degrees Fahrenheit =\", temp_c, \"degrees Celsius\")"
   ]
  },
  {
   "cell_type": "code",
   "execution_count": 13,
   "metadata": {
    "pycharm": {
     "name": "#%%\n"
    }
   },
   "outputs": [
    {
     "name": "stdout",
     "output_type": "stream",
     "text": [
      "Enter temperature in Celsius:\n",
      "Please input temperature with number\n"
     ]
    }
   ],
   "source": [
    "#Third Python Program\n",
    "print(\"Enter temperature in Celsius:\")\n",
    "temp_c = input()\n",
    "temp_c = float(temp_c)\n",
    "temp_f = (temp_c * 1.8) + 32\n",
    "print(temp_c, \"degrees Celsius =\", temp_f, \"degrees Fahrenheit\")"
   ]
  }
 ],
 "metadata": {
  "kernelspec": {
   "display_name": "Python 3 (ipykernel)",
   "language": "python",
   "name": "python3"
  },
  "language_info": {
   "codemirror_mode": {
    "name": "ipython",
    "version": 3
   },
   "file_extension": ".py",
   "mimetype": "text/x-python",
   "name": "python",
   "nbconvert_exporter": "python",
   "pygments_lexer": "ipython3",
   "version": "3.7.9"
  }
 },
 "nbformat": 4,
 "nbformat_minor": 1
}