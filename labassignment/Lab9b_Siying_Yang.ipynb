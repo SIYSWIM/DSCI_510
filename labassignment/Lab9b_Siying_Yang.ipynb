{
 "cells": [
  {
   "cell_type": "markdown",
   "id": "c02b4a9b",
   "metadata": {},
   "source": [
    "### Welcome to DSCI 510 Lab9b\n",
    "\n",
    "We forgot to include bonus questions in Lab9. Sorry. Here is the addendum.<br>\n",
    "This assignment is due today, Saturday, April 1, 2023, at 11:11pm<br>\n",
    "Please read this whole page before starting."
   ]
  },
  {
   "cell_type": "markdown",
   "id": "29178887",
   "metadata": {},
   "source": [
    "## BQ1: Decipherment (3 points)\n",
    "Decipher the following message. You may use your Homework 1 code."
   ]
  },
  {
   "cell_type": "code",
   "execution_count": 6,
   "id": "e5ad65e0",
   "metadata": {},
   "outputs": [],
   "source": [
    "from typing import Tuple\n",
    "\n",
    "def caesar_encrypt(text: str, shift: int) -> str:\n",
    "    case_convert = []\n",
    "    output = []\n",
    "    code = None\n",
    "    for i in text:\n",
    "        # lower case\n",
    "        if ord(i) in range(65,91) or range(97,123):\n",
    "            i = i.lower()\n",
    "            case_convert.append(i)\n",
    "        else:\n",
    "            case_convert.append(i)\n",
    "    #shift\n",
    "    for i in case_convert:\n",
    "        #for a-z\n",
    "        if ord(i) in range(97,123):\n",
    "            d = ord(i) + shift\n",
    "            # wrap around if out of range\n",
    "            d = (d - 97) % 26 + 97\n",
    "            i = chr(d)\n",
    "            output.append(i)\n",
    "        #for not a-z\n",
    "        elif ord(i) not in range(97,123):\n",
    "            d = ord(i)\n",
    "            i = chr(d)\n",
    "            output.append(i)\n",
    "    code = ''.join(output)\n",
    "    return code\n",
    "\n",
    "\n",
    "def char_distribution(text: str) -> dict:\n",
    "    # number of letters in a word\n",
    "    # only count the letters, no special characters\n",
    "    total_count = sum(1 for i in text if i.isalpha())\n",
    "    letter_in_word = {}\n",
    "    distri_dict = {}\n",
    "    # count how many times each letter appear\n",
    "    for i in text:\n",
    "        # only count the letters, no special characters\n",
    "        if i.isalpha():\n",
    "            if i in letter_in_word:\n",
    "                letter_in_word[i] += 1\n",
    "            else:\n",
    "                letter_in_word[i] = 1\n",
    "            # normalized\n",
    "            distri_dict[i] = letter_in_word[i] / total_count\n",
    "    return distri_dict\n",
    "\n",
    "def distribution_diff(d1: dict, d2: dict) -> float:\n",
    "    # return a list of letters in each dict\n",
    "    key_in_d1 = list(d1.keys())\n",
    "    key_in_d2 = list(d2.keys())\n",
    "    compare_dict = {}\n",
    "    #compare\n",
    "    for i in key_in_d1:\n",
    "        # if appear in both dict\n",
    "        if i in key_in_d2:\n",
    "            compare_dict[i] = abs(d1[i]-d2[i])\n",
    "        # if only in dict1\n",
    "        else:\n",
    "            compare_dict[i] = d1[i]\n",
    "    # if only in dict2\n",
    "    for i in key_in_d2:\n",
    "        if i not in key_in_d1:\n",
    "            compare_dict[i] = d2[i]\n",
    "    # sum up the differences of each character\n",
    "    total_values = sum(compare_dict.values())\n",
    "    # normalized\n",
    "    total_difference = total_values / 2\n",
    "    # round if exceed 1.0 because of floating-point arithmetic\n",
    "    if total_difference > 1:\n",
    "        total_difference = round(total_difference,2)\n",
    "    return total_difference\n",
    "\n",
    "\n",
    "def caesar_decrypt(text: str, ref_text: str) -> Tuple[str, int, float]:\n",
    "    # clean the string\n",
    "    text_cleaned = text.rstrip()\n",
    "    ref_text_cleaned = ref_text.rstrip()\n",
    "    # convert into lower case\n",
    "    text_lower = text_cleaned.lower()\n",
    "    ref_text_lower = ref_text_cleaned.lower()\n",
    "    # occurance of the letters in ref\n",
    "    ref_occurance = char_distribution(ref_text_lower)\n",
    "    word_comparision = {}\n",
    "    for i in range(26):\n",
    "        # try each shift\n",
    "        message_decrypt = caesar_encrypt(text_lower,i)\n",
    "        # occurance of the letters in decrypt\n",
    "        decrypted_occurance = char_distribution(message_decrypt)\n",
    "        # compare the occurance in ref and decrypted message\n",
    "        word_comparision[i] = distribution_diff(ref_occurance, decrypted_occurance)\n",
    "    # find out the smallest difference one\n",
    "    word_sorted = sorted(word_comparision.items(), key=lambda x: x[1])\n",
    "    # decrypted message, shift key, character distribution difference\n",
    "    best_shift, best_difference = word_sorted[0]\n",
    "    best_message_decrypt = caesar_encrypt(text,best_shift)\n",
    "    return (best_message_decrypt)\n",
    "\n",
    "gettysburg_address = '''\n",
    "Four score and seven years ago our fathers brought forth on this continent, a new nation, conceived in Liberty, and dedicated to the proposition that all men are created equal.\n",
    "Now we are engaged in a great civil war, testing whether that nation, or any nation so conceived and so dedicated, can long endure. \n",
    "We are met on a great battle-field of that war. \n",
    "We have come to dedicate a portion of that field, as a final resting place for those who here gave their lives that that nation might live. \n",
    "It is altogether fitting and proper that we should do this.\n",
    "But, in a larger sense, we can not dedicate—we can not consecrate—we can not hallow—this ground. \n",
    "The brave men, living and dead, who struggled here, have consecrated it, far above our poor power to add or detract. \n",
    "The world will little note, nor long remember what we say here, but it can never forget what they did here. \n",
    "It is for us the living, rather, to be dedicated here to the unfinished work which they who fought here have thus far so nobly advanced. \n",
    "It is rather for us to be here dedicated to the great task remaining before us—that from these honored dead we take increased devotion to that cause for which they gave the last full measure of devotion—that we here highly resolve that these dead shall not have died in vain—that this nation, under God, shall have a new birth of freedom—and that government of the people, by the people, for the people, shall not perish from the earth.\n",
    "'''"
   ]
  },
  {
   "cell_type": "code",
   "execution_count": 8,
   "id": "eaee6968",
   "metadata": {},
   "outputs": [],
   "source": [
    "encrypted_message = 'ykjcnwpqhwpekjo kj yknnayphu zayeldanejc pdeo iaoowca. dwllu wlneh bkkho zwu.'\n",
    "decrypted_message = 'congratulations on correctly deciphering this message. happy april fools day.'"
   ]
  },
  {
   "cell_type": "code",
   "execution_count": 9,
   "id": "4af0c259",
   "metadata": {},
   "outputs": [
    {
     "name": "stdout",
     "output_type": "stream",
     "text": [
      "congratulations on correctly deciphering this message. happy april fools day.\n"
     ]
    }
   ],
   "source": [
    "decrypted_message_info = caesar_decrypt(encrypted_message, gettysburg_address)\n",
    "print(decrypted_message_info)"
   ]
  },
  {
   "cell_type": "markdown",
   "id": "032b83ea",
   "metadata": {},
   "source": [
    "## BQ2: File Compression Optimization (10 points)\n",
    "In a world with explosive data growth, efficient file compression becomes ever more important. \n",
    "\n",
    "__Part A:__ To enable optimized file compression, write a program that sorts the bits of given file, placing all the 0s at the front and all the 1s at the end. Make sure not to lose or add any 0s or 1s."
   ]
  },
  {
   "cell_type": "raw",
   "id": "eeef30a3",
   "metadata": {},
   "source": [
    "# Put your code here"
   ]
  },
  {
   "cell_type": "markdown",
   "id": "a6b25bf4",
   "metadata": {},
   "source": [
    "__Part B:__ Evaluate your program on the file _GettysburgAddress.txt_. Apply the compression tool _gzip_ to both the original Gettysburg Address file and the bit-sorted version, and quantify the reduction in file size."
   ]
  },
  {
   "cell_type": "code",
   "execution_count": 25,
   "id": "72ee04e7",
   "metadata": {},
   "outputs": [],
   "source": [
    "import gzip\n",
    "\n",
    "with open('GettysburgAddress.txt', 'rb') as fh:\n",
    "    with gzip.open('GettysburgAddress.gz', 'wb') as fd:\n",
    "        fd.write(fh.read())\n",
    "\n",
    "## 773 bytes though\n"
   ]
  },
  {
   "cell_type": "raw",
   "id": "d497ec9d",
   "metadata": {},
   "source": [
    "# Put your analysis here\n",
    "\n",
    "I was totally fooled by the lab assignment, and have fun today!\n",
    "Present the only solution that I can figure out btw."
   ]
  },
  {
   "cell_type": "markdown",
   "id": "e693fae5",
   "metadata": {},
   "source": [
    "Please include your bit-sorted GettysburgAddress file `GettysburgAddress.bitsort` with your submission."
   ]
  },
  {
   "cell_type": "markdown",
   "id": "c78e4530",
   "metadata": {},
   "source": [
    "### BQ3: Software Sinification (12 points)\n",
    "Based on ever increasing international demand, the USC Data Science Program has decided to offer some data science sections in Chinese. To support this new initiative, several components of DSCI 510 need to be updated.\n",
    "\n",
    "Write a program that converts a regular (English) Python program to Chinese Python.\n",
    "\n",
    "__Sample input:__"
   ]
  },
  {
   "cell_type": "raw",
   "id": "87f12d8e",
   "metadata": {},
   "source": [
    "import sys\n",
    "filenames = sys.argv[1:]\n",
    "\n",
    "def fixline(file):\n",
    "    text = open(file).read()\n",
    "    text = text.replace('\\n\\r', '\\n')\n",
    "    return text\n",
    "\n",
    "for file in filenames:\n",
    "    print(fixline(file))"
   ]
  },
  {
   "cell_type": "markdown",
   "id": "e1c0aecf",
   "metadata": {},
   "source": [
    "__Sample output:__"
   ]
  },
  {
   "cell_type": "raw",
   "id": "231270e3",
   "metadata": {},
   "source": [
    "载入 系统\n",
    "文件名 = 系统.参数[1:]\n",
    "\n",
    "定义 修正行尾(文件):\n",
    "    内文 = 打开(文件).读入()\n",
    "    内文 = 内文.替换('\\n\\r','\\n')\n",
    "    传回 内文\n",
    "\n",
    "取 文件 自 文件名:\n",
    "    写(修正行尾(文件))"
   ]
  },
  {
   "cell_type": "raw",
   "id": "e253090e",
   "metadata": {},
   "source": [
    "# Put your code here"
   ]
  },
  {
   "cell_type": "markdown",
   "id": "18a125f8",
   "metadata": {},
   "source": [
    "## Important Note\n",
    "__All questions in this lab assignment are optional.__"
   ]
  }
 ],
 "metadata": {
  "kernelspec": {
   "display_name": "Python 3 (ipykernel)",
   "language": "python",
   "name": "python3"
  },
  "language_info": {
   "codemirror_mode": {
    "name": "ipython",
    "version": 3
   },
   "file_extension": ".py",
   "mimetype": "text/x-python",
   "name": "python",
   "nbconvert_exporter": "python",
   "pygments_lexer": "ipython3",
   "version": "3.11.0"
  }
 },
 "nbformat": 4,
 "nbformat_minor": 5
}
