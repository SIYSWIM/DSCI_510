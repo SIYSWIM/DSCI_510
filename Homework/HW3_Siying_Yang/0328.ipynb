{
 "cells": [
  {
   "attachments": {},
   "cell_type": "markdown",
   "metadata": {},
   "source": [
    "## Scrap data about asthma ED vists"
   ]
  },
  {
   "attachments": {},
   "cell_type": "markdown",
   "metadata": {},
   "source": [
    "## Convert districts to coordinates by API"
   ]
  },
  {
   "cell_type": "code",
   "execution_count": 11,
   "metadata": {},
   "outputs": [
    {
     "ename": "AttributeError",
     "evalue": "'NoneType' object has no attribute 'address'",
     "output_type": "error",
     "traceback": [
      "\u001b[0;31m---------------------------------------------------------------------------\u001b[0m",
      "\u001b[0;31mAttributeError\u001b[0m                            Traceback (most recent call last)",
      "Cell \u001b[0;32mIn[11], line 8\u001b[0m\n\u001b[1;32m      6\u001b[0m geolocator \u001b[39m=\u001b[39m Nominatim(user_agent\u001b[39m=\u001b[39m\u001b[39m\"\u001b[39m\u001b[39mgeopy_swim\u001b[39m\u001b[39m\"\u001b[39m)\n\u001b[1;32m      7\u001b[0m location \u001b[39m=\u001b[39m geolocator\u001b[39m.\u001b[39mgeocode(\u001b[39m\"\u001b[39m\u001b[39mBedford Stuyvesant - Crown Heights\u001b[39m\u001b[39m\"\u001b[39m)\n\u001b[0;32m----> 8\u001b[0m \u001b[39mprint\u001b[39m(location\u001b[39m.\u001b[39;49maddress)\n\u001b[1;32m      9\u001b[0m \u001b[39mprint\u001b[39m((location\u001b[39m.\u001b[39mlatitude, location\u001b[39m.\u001b[39mlongitude))\n",
      "\u001b[0;31mAttributeError\u001b[0m: 'NoneType' object has no attribute 'address'"
     ]
    }
   ],
   "source": [
    "import geopy.geocoders\n",
    "from geopy.geocoders import Nominatim\n",
    "from geopy.geocoders import options\n",
    "geopy.geocoders.options.default_user_agent = \"geopy_swim\"\n",
    "geopy.geocoders.options.default_timeout = 7\n",
    "geolocator = Nominatim(user_agent=\"geopy_swim\")\n",
    "location = geolocator.geocode(\"Bedford Stuyvesant - Crown Heights\")\n",
    "print(location.address)\n",
    "print((location.latitude, location.longitude))"
   ]
  },
  {
   "attachments": {},
   "cell_type": "markdown",
   "metadata": {},
   "source": [
    "## Scrap particular historical PM2.5 data by API"
   ]
  }
 ],
 "metadata": {
  "kernelspec": {
   "display_name": "dsci510",
   "language": "python",
   "name": "python3"
  },
  "language_info": {
   "codemirror_mode": {
    "name": "ipython",
    "version": 3
   },
   "file_extension": ".py",
   "mimetype": "text/x-python",
   "name": "python",
   "nbconvert_exporter": "python",
   "pygments_lexer": "ipython3",
   "version": "3.11.0"
  },
  "orig_nbformat": 4
 },
 "nbformat": 4,
 "nbformat_minor": 2
}
