{
 "cells": [
  {
   "attachments": {},
   "cell_type": "markdown",
   "metadata": {},
   "source": [
    "# Lab 9\n",
    "---\n",
    "Hello and welcome to lab 8 (3/31/2023). \n",
    "\n",
    "This file is lecture note. It's not your lab assignment.\n",
    "\n",
    "The goal of this lab lession is learn to interact with utilize database"
   ]
  },
  {
   "attachments": {},
   "cell_type": "markdown",
   "metadata": {},
   "source": [
    "# 1. Why we need a database?\n",
    "\n",
    "What operations we did with database: CRUD. Create, Read, Update and Delete\n",
    "\n",
    "We are already using database:\n",
    "* sqlite: imessage/whatsapp/messenger/chrome\n",
    "* MySQL/MariaDB: Facebook/TikTok.\n",
    "\n",
    "For Robustness:\n",
    "1. CSV: How to insert a row in the middle? Will data damaged will updating? What if multiple user are concurrently updating?\n",
    "2. Pandas: How to make data persistent (still there after restart)? You need to write to file. Then come to 1).\n",
    "3. Excel/Pages: Technically they are a type of database, but they are commerical/not open source, we couldn't use them in our project.\n",
    "\n",
    "For Speed:\n",
    "* https://www.mysql.com/why-mysql/benchmarks/mysql/\n",
    "\n",
    "For feature, better search\n",
    "* JOIN: combine 2 tables on the fly, based on a common key\n",
    "* Full text search, fuzzy search, index. E.g.: How to find all tweets about covid? Full text engine in database allow you to do this without loop though all rows.\n"
   ]
  },
  {
   "attachments": {},
   "cell_type": "markdown",
   "metadata": {},
   "source": [
    "# 2. JOIN (the essense of database)\n",
    "\n",
    "* left-join: only use index from left (first table)\n",
    "* right-join: only use index from right (right table)\n",
    "* innter-join: Intersection of index (defaut, most common   )\n",
    "* outer-join: union of index\n",
    "\n",
    "https://pandas.pydata.org/docs/reference/api/pandas.DataFrame.join.html\n",
    "\n",
    "Why doing this: minimize redundancy.\n",
    "\n",
    "In the final project, you should use JOIN to combine three database you found.\n",
    "\n",
    "Similiar to vlookup function in Excel\n",
    "\n"
   ]
  },
  {
   "attachments": {},
   "cell_type": "markdown",
   "metadata": {},
   "source": [
    "# 3. Concrete example\n",
    "\n",
    "Completed code: https://github.com/pallets/flask/tree/main/examples/tutorial/\n",
    "\n",
    "Step by step: https://flask.palletsprojects.com/en/2.2.x/tutorial/\n",
    "* Also a great example for how to build a website from scratch\n",
    "* Has DBMS, HTML, JavaScript\n",
    "* Great material if you want to do SDE/Frontend/Backend\n",
    "\n"
   ]
  }
 ],
 "metadata": {
  "kernelspec": {
   "display_name": "Python 3 (ipykernel)",
   "language": "python",
   "name": "python3"
  },
  "language_info": {
   "codemirror_mode": {
    "name": "ipython",
    "version": 3
   },
   "file_extension": ".py",
   "mimetype": "text/x-python",
   "name": "python",
   "nbconvert_exporter": "python",
   "pygments_lexer": "ipython3",
   "version": "3.9.12"
  },
  "vscode": {
   "interpreter": {
    "hash": "2befdfe02518c957e8c1c49611d30f3c1e6512f9acbd292cce6a0c17a6ac95c0"
   }
  }
 },
 "nbformat": 4,
 "nbformat_minor": 2
}
