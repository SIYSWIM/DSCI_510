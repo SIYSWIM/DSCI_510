{
 "cells": [
  {
   "attachments": {},
   "cell_type": "markdown",
   "metadata": {},
   "source": [
    "# Lab 1\n",
    "---\n",
    "Hello and welcome to lab 1.\n",
    "\n",
    "Before you try out your first programs, please make sure that\n",
    "1.\tYou have Python installed on your computer (at least version 3.8, latest version is 3.11)\n",
    "2.\tYou have jupyter Notebook installed on your computer \n",
    "\n",
    "__Guidelines:__\n",
    "\n",
    "- Please write and submit lab1_\\<firstname>_\\<lastname>.ipynb to Blackboard by the deadline: Tuesday, January 17, at 6pm. P.T.\n",
    "\n",
    "- You must complete the assignments individually. If you have trouble completing the assignment, please let one of the teaching assistants (TAs) know, during the lab or their office hours. They will help and guide you, but they will not write code for you and no one else should :) !!!  \n",
    "\n",
    "- You may look up resources online like python docs and stackoverflow. You may look up topics, but not the questions themselves.\n",
    "\n",
    "- You may submit multiple times. Your grade will be based on your last submission."
   ]
  },
  {
   "cell_type": "markdown",
   "metadata": {},
   "source": [
    "# 1. First Python program "
   ]
  },
  {
   "cell_type": "code",
   "execution_count": 1,
   "metadata": {},
   "outputs": [
    {
     "name": "stdout",
     "output_type": "stream",
     "text": [
      "Hello, world!\n"
     ]
    }
   ],
   "source": [
    "print(\"Hello, world!\")"
   ]
  },
  {
   "cell_type": "markdown",
   "metadata": {},
   "source": [
    "`print()` is a Python function that prints its arguments (inside the parentheses).\n",
    "\n",
    "The quotes \"\" indicate that the text string is to be taken literally. Example:"
   ]
  },
  {
   "cell_type": "code",
   "execution_count": 2,
   "metadata": {},
   "outputs": [
    {
     "name": "stdout",
     "output_type": "stream",
     "text": [
      "Hello name\n",
      "Hello Tommy  Trojan\n"
     ]
    }
   ],
   "source": [
    "name = \"Tommy  Trojan\"\t\t\t\t# Assigns the value Tommy Trojan to variable name\n",
    "print(\"Hello\",  \"name\")\t\t\t\t# Prints Hello name\n",
    "print(\"Hello\",  name)\t\t\t\t# Prints Hello Tommy Trojan"
   ]
  },
  {
   "cell_type": "markdown",
   "metadata": {},
   "source": [
    "# 2. Temperature conversion from Fahrenheit to Celsius"
   ]
  },
  {
   "cell_type": "code",
   "execution_count": 3,
   "metadata": {},
   "outputs": [
    {
     "name": "stdout",
     "output_type": "stream",
     "text": [
      "Enter temperature in Fahrenheit:\n",
      "32.0 degrees Fahrenheit = 0.0 degrees Celsius\n"
     ]
    }
   ],
   "source": [
    "print(\"Enter temperature in Fahrenheit:\")\n",
    "temp_f = float(input())\n",
    "temp_c = (temp_f - 32) * 5 / 9\n",
    "print(temp_f, \"degrees Fahrenheit =\", temp_c, \"degrees Celsius\")"
   ]
  },
  {
   "cell_type": "markdown",
   "metadata": {},
   "source": [
    "The function `input()` reads in a text string from input (typically the keyboard).\n",
    "\n",
    "The function `float()` converts a text string to a floating point number (decimal number), which can be used in mathematical operations.\n",
    "\n",
    "In the assignment statement ` … = …`, first computes the right side of the equal sign, then assign to the left side.\n",
    "\n",
    "It is not a mathematical equality, which is expressed as `==` (two equal signs).\n"
   ]
  },
  {
   "cell_type": "markdown",
   "metadata": {},
   "source": [
    "# 3. Variable Types\n",
    "\n",
    "Python is dynamically typed, but it is still typed. Each variable have its type. You could know it's type by using the `type()` function.<br>\n",
    "Variable's type is determined when assigning its value.\n",
    "\n",
    "`int`: Integer<br>\n",
    "`float`: Floating point number<br>\n",
    "`str`: String<br>"
   ]
  },
  {
   "cell_type": "code",
   "execution_count": 4,
   "metadata": {},
   "outputs": [
    {
     "name": "stdout",
     "output_type": "stream",
     "text": [
      "<class 'int'>\n",
      "<class 'float'>\n",
      "<class 'str'>\n",
      "<class 'str'>\n"
     ]
    }
   ],
   "source": [
    "temp_f = 68\n",
    "print(type(temp_f))\n",
    "\n",
    "temp_f = 68.0\n",
    "print(type(temp_f))\n",
    "\n",
    "temp_f = \"68\"\n",
    "print(type(temp_f))\n",
    "\n",
    "temp_f = \"68.0\"\n",
    "print(type(temp_f))"
   ]
  },
  {
   "attachments": {},
   "cell_type": "markdown",
   "metadata": {
    "scrolled": true
   },
   "source": [
    "Everything in Python must be defined (except for reserved keywords).\n",
    "\n",
    "You can't use a variable/function without define or import it. You could find it's defintion by right click->Go to Definition."
   ]
  }
 ],
 "metadata": {
  "kernelspec": {
   "display_name": "base",
   "language": "python",
   "name": "python3"
  },
  "language_info": {
   "codemirror_mode": {
    "name": "ipython",
    "version": 3
   },
   "file_extension": ".py",
   "mimetype": "text/x-python",
   "name": "python",
   "nbconvert_exporter": "python",
   "pygments_lexer": "ipython3",
   "version": "3.9.12 (main, Apr  4 2022, 05:22:27) [MSC v.1916 64 bit (AMD64)]"
  },
  "vscode": {
   "interpreter": {
    "hash": "2befdfe02518c957e8c1c49611d30f3c1e6512f9acbd292cce6a0c17a6ac95c0"
   }
  }
 },
 "nbformat": 4,
 "nbformat_minor": 4
}
