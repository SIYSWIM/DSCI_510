{
 "cells": [
  {
   "cell_type": "markdown",
   "metadata": {},
   "source": [
    "# Week4 Lab\n",
    "---\n",
    "Hello and welcome to week4 lab (02/03/2023). \n",
    "\n",
    "This file is lecture note. It's not your lab assignment.\n",
    "\n",
    "The goal for this lab session is to help you understand list, dict and set."
   ]
  },
  {
   "cell_type": "markdown",
   "metadata": {},
   "source": [
    "# 1. Three fundamental data types\n",
    "\n",
    "item: int/float/str  \n",
    "sequence: list/tuple  \n",
    "mapping: dict  \n",
    "\n",
    "These three types covers almost all the data format. [JSON](https://www.json.org/json-en.html) consists of these 3 types, we will talk about it later."
   ]
  },
  {
   "cell_type": "markdown",
   "metadata": {},
   "source": [
    "# 2. list operations in Python\n",
    "\n",
    "Lists are ordered. There is a defined order of elements within a list. New elements are added to the end of the list. <br>\n",
    "Lists are mutable. We can modify the list"
   ]
  },
  {
   "cell_type": "code",
   "execution_count": 47,
   "metadata": {},
   "outputs": [
    {
     "name": "stdout",
     "output_type": "stream",
     "text": [
      "[['hall', 11.25], ['kitchen', 18.0], ['living room', 20.0], ['bedroom', 10.75], ['bathroom', 9.5]]\n"
     ]
    }
   ],
   "source": [
    "# list having numbers \n",
    "num_list = [1, 2, 3, 4, 5]\n",
    "\n",
    "# list having mix data types \n",
    "mix_list = [1, 'Hello', 'World', 79.5, True]\n",
    "\n",
    "### Nested list\n",
    "hall = 11.25\n",
    "kitch = 18.0\n",
    "liv = 20.0\n",
    "bed = 10.75\n",
    "bath = 9.50\n",
    "\n",
    "house = [['hall',hall], \n",
    "         ['kitchen',kitch],\n",
    "         ['living room',liv], \n",
    "         ['bedroom',bed], \n",
    "         ['bathroom',bath]]\n",
    "\n",
    "print(house)"
   ]
  },
  {
   "cell_type": "markdown",
   "metadata": {},
   "source": [
    "### Operations on list"
   ]
  },
  {
   "cell_type": "code",
   "execution_count": 48,
   "metadata": {},
   "outputs": [
    {
     "name": "stdout",
     "output_type": "stream",
     "text": [
      "5\n",
      "5\n"
     ]
    }
   ],
   "source": [
    "### Length/Number of elements in a list\n",
    "\n",
    "print(len(num_list))\n",
    "\n",
    "print(len(mix_list))"
   ]
  },
  {
   "cell_type": "code",
   "execution_count": 49,
   "metadata": {},
   "outputs": [
    {
     "name": "stdout",
     "output_type": "stream",
     "text": [
      "1\n",
      "79.5\n"
     ]
    }
   ],
   "source": [
    "### Access elements of a list \n",
    "\n",
    "#access 1st element\n",
    "print(mix_list[0])\n",
    "\n",
    "#access 4th element\n",
    "print(mix_list[3])"
   ]
  },
  {
   "cell_type": "code",
   "execution_count": 51,
   "metadata": {},
   "outputs": [
    {
     "name": "stdout",
     "output_type": "stream",
     "text": [
      "[1, 'Hello', 'World']\n",
      "['Hello', 'World', 79.5]\n",
      "True\n",
      "79.5\n",
      "['World', 79.5]\n"
     ]
    }
   ],
   "source": [
    "### Access consecutive elements of list\n",
    "\n",
    "#print 1st 3 elements\n",
    "print(mix_list[:3])    # this is same as : mix_list[0:3]\n",
    "\n",
    "#print 2nd to 4th  elements\n",
    "print(mix_list[1:4])\n",
    "\n",
    "#access 1st element from the last\n",
    "print(mix_list[-1])\n",
    "\n",
    "#access 2nd element from the last\n",
    "print(mix_list[-2])\n",
    "\n",
    "#access last 2 elements from the list\n",
    "print(mix_list[-3:-1])"
   ]
  },
  {
   "cell_type": "code",
   "execution_count": 52,
   "metadata": {},
   "outputs": [
    {
     "name": "stdout",
     "output_type": "stream",
     "text": [
      "[1, 'Hello', 'World', 79.5, True, 'Python']\n",
      "[1, 'Hello', 'World', 'R', 79.5, True, 'Python']\n",
      "[1, 'Hello', 'World', 'R', 79.5, True, 'Python', 'This', 'is', 'amazing']\n"
     ]
    }
   ],
   "source": [
    "### Appending elements to a list\n",
    "\n",
    "# Using append \n",
    "mix_list.append('Python')\n",
    "print(mix_list)\n",
    "\n",
    "# Using insert \n",
    "# adding a subject - R at the index 3.\n",
    "mix_list.insert(3,'R')\n",
    "print(mix_list)\n",
    "\n",
    "# Using extend - append multiple elements at once\n",
    "mix_list.extend([\"This\", \"is\", \"amazing\"])\n",
    "print(mix_list)"
   ]
  },
  {
   "cell_type": "code",
   "execution_count": 53,
   "metadata": {},
   "outputs": [
    {
     "name": "stdout",
     "output_type": "stream",
     "text": [
      "[1, 'Hello', 'Class', 'R', 79.5, True, 'Python', 'This', 'is', 'amazing']\n"
     ]
    }
   ],
   "source": [
    "### Update elements of a list\n",
    "\n",
    "#change World to Class using the index \n",
    "mix_list[2] = 'Class'\n",
    "print(mix_list)"
   ]
  },
  {
   "cell_type": "code",
   "execution_count": 55,
   "metadata": {},
   "outputs": [
    {
     "name": "stdout",
     "output_type": "stream",
     "text": [
      "8\n",
      "[1, 'Hello', 'Class', 'R', 79.5, True, 'This']\n",
      "7\n"
     ]
    },
    {
     "ename": "ValueError",
     "evalue": "list.remove(x): x not in list",
     "output_type": "error",
     "traceback": [
      "\u001b[0;31m---------------------------------------------------------------------------\u001b[0m",
      "\u001b[0;31mValueError\u001b[0m                                Traceback (most recent call last)",
      "Input \u001b[0;32mIn [55]\u001b[0m, in \u001b[0;36m<cell line: 13>\u001b[0;34m()\u001b[0m\n\u001b[1;32m      9\u001b[0m \u001b[38;5;28mprint\u001b[39m(\u001b[38;5;28mlen\u001b[39m(mix_list))\n\u001b[1;32m     12\u001b[0m \u001b[38;5;66;03m#remove Python\u001b[39;00m\n\u001b[0;32m---> 13\u001b[0m \u001b[43mmix_list\u001b[49m\u001b[38;5;241;43m.\u001b[39;49m\u001b[43mremove\u001b[49m\u001b[43m(\u001b[49m\u001b[38;5;124;43m'\u001b[39;49m\u001b[38;5;124;43mPy\u001b[39;49m\u001b[38;5;124;43m'\u001b[39;49m\u001b[43m)\u001b[49m\n\u001b[1;32m     14\u001b[0m \u001b[38;5;28mprint\u001b[39m(mix_list)\n\u001b[1;32m     16\u001b[0m \u001b[38;5;28mprint\u001b[39m(\u001b[38;5;28mlen\u001b[39m(mix_list))\n",
      "\u001b[0;31mValueError\u001b[0m: list.remove(x): x not in list"
     ]
    }
   ],
   "source": [
    "### Delete elements of a list\n",
    "\n",
    "print(len(mix_list))\n",
    "\n",
    "#pop - Removes/pops out last element from the list and returns the remaining elements.\n",
    "mix_list.pop()\n",
    "print(mix_list)\n",
    "\n",
    "print(len(mix_list))\n",
    "\n",
    "\n",
    "#remove Python\n",
    "mix_list.remove('Python')\n",
    "print(mix_list)\n",
    "\n",
    "print(len(mix_list))"
   ]
  },
  {
   "cell_type": "code",
   "execution_count": 59,
   "metadata": {},
   "outputs": [
    {
     "name": "stdout",
     "output_type": "stream",
     "text": [
      "[1, 2, 3, 4, 5]\n",
      "5\n",
      "1\n"
     ]
    }
   ],
   "source": [
    "### Maximum element within a list \n",
    "# only works on homogenous list i.e. lists having elements of the same data type.\n",
    "\n",
    "print(num_list)\n",
    "# max in a list - for homogenous list \n",
    "print(max(num_list))\n",
    "\n",
    "print(min(num_list))\n",
    "\n",
    "# print(max(mix_list))"
   ]
  },
  {
   "cell_type": "code",
   "execution_count": 60,
   "metadata": {},
   "outputs": [
    {
     "name": "stdout",
     "output_type": "stream",
     "text": [
      "[1, 3, 4, 5, 5, 6, 7, 8, 9, 10]\n"
     ]
    }
   ],
   "source": [
    "### Concatenate lists\n",
    "\n",
    "num_list1 = [1, 3, 4, 5]\n",
    "num_list2 = [5, 6, 7]\n",
    "num_list3 = [8, 9, 10]\n",
    "\n",
    "# concat lists \n",
    "print(num_list1 + num_list2 + num_list3)"
   ]
  },
  {
   "cell_type": "code",
   "execution_count": 62,
   "metadata": {},
   "outputs": [
    {
     "name": "stdout",
     "output_type": "stream",
     "text": [
      "1\n",
      "Hello\n",
      "Class\n",
      "R\n",
      "79.5\n",
      "True\n",
      "This\n"
     ]
    }
   ],
   "source": [
    "### Iterating through a list\n",
    "\n",
    "\n",
    "# for i in range(len(mix_list)):\n",
    "#     print(mix_list[i])\n",
    "    \n",
    "    \n",
    "for item in mix_list: \n",
    "    print(item)"
   ]
  },
  {
   "cell_type": "code",
   "execution_count": 29,
   "metadata": {},
   "outputs": [
    {
     "name": "stdout",
     "output_type": "stream",
     "text": [
      "['C++', 'Java', 'Perl', 'Python']\n",
      "['Python', 'Perl', 'Java', 'C++']\n",
      "[(1, 'C++'), (1, 'Python'), (2, 'Java'), (3, 'C++')]\n"
     ]
    }
   ],
   "source": [
    "### Sorting list\n",
    "\n",
    "#sorting - requires homogenous values\n",
    "sub_list = ['Python', 'Perl', 'Java', 'C++']\n",
    "\n",
    "# ascending order \n",
    "sub_list.sort()\n",
    "print(sub_list)\n",
    "\n",
    "# descending order  \n",
    "sub_list.sort(reverse = True)\n",
    "print(sub_list)\n",
    "\n",
    "\n",
    "#Sorting a list with tuples or another lists.\n",
    "tuple_list = [(1, \"Python\"), (1, \"C++\"), (2, \"Java\"), (3, \"C++\")]\n",
    "tuple_list.sort()\n",
    "print(tuple_list)"
   ]
  },
  {
   "cell_type": "markdown",
   "metadata": {},
   "source": [
    "# 3. dict operations in Python\n",
    "\n",
    "Since Python 3.7, dict keeps its insertion order"
   ]
  },
  {
   "cell_type": "code",
   "execution_count": 65,
   "metadata": {},
   "outputs": [],
   "source": [
    "data = dict()\n",
    "data = {}\n",
    "data = {\n",
    "    \"James\": 1,\n",
    "    \"David\": 2,\n",
    "    \"Lisa\": 3,\n",
    "    \"Linda\": 4\n",
    "}"
   ]
  },
  {
   "cell_type": "code",
   "execution_count": 63,
   "metadata": {},
   "outputs": [
    {
     "name": "stdout",
     "output_type": "stream",
     "text": [
      "4\n"
     ]
    }
   ],
   "source": [
    "# length:\n",
    "print(len(data))"
   ]
  },
  {
   "cell_type": "code",
   "execution_count": 66,
   "metadata": {},
   "outputs": [
    {
     "name": "stdout",
     "output_type": "stream",
     "text": [
      "James\n",
      "David\n",
      "Lisa\n",
      "Linda\n",
      "James\n",
      "David\n",
      "Lisa\n",
      "Linda\n"
     ]
    }
   ],
   "source": [
    "# loop over keys\n",
    "for k in data:\n",
    "    print(k)\n",
    "\n",
    "for key in data.keys():\n",
    "    print(key)"
   ]
  },
  {
   "cell_type": "code",
   "execution_count": 67,
   "metadata": {},
   "outputs": [
    {
     "name": "stdout",
     "output_type": "stream",
     "text": [
      "1\n",
      "2\n",
      "3\n",
      "4\n"
     ]
    }
   ],
   "source": [
    "# loop over values\n",
    "for value in data.values():\n",
    "    print(value)"
   ]
  },
  {
   "cell_type": "code",
   "execution_count": 68,
   "metadata": {},
   "outputs": [
    {
     "name": "stdout",
     "output_type": "stream",
     "text": [
      "James 1\n",
      "David 2\n",
      "Lisa 3\n",
      "Linda 4\n"
     ]
    }
   ],
   "source": [
    "# loop over key-value pair\n",
    "for key, value in data.items():\n",
    "    print(key, value)"
   ]
  },
  {
   "cell_type": "code",
   "execution_count": 35,
   "metadata": {},
   "outputs": [
    {
     "name": "stdout",
     "output_type": "stream",
     "text": [
      "['James', 'David', 'Lisa', 'Linda']\n",
      "[1, 2, 3, 4]\n",
      "[('James', 1), ('David', 2), ('Lisa', 3), ('Linda', 4)]\n"
     ]
    }
   ],
   "source": [
    "# convert keys to list\n",
    "print(list(data.keys()))\n",
    "\n",
    "# convert values to list\n",
    "print(list(data.values()))\n",
    "\n",
    "# convert key-value pair to list\n",
    "print(list(data.items()))"
   ]
  },
  {
   "cell_type": "code",
   "execution_count": 70,
   "metadata": {},
   "outputs": [
    {
     "name": "stdout",
     "output_type": "stream",
     "text": [
      "new\n",
      "{'James': 'new', 'David': 2, 'Lisa': 3, 'Linda': 4}\n"
     ]
    }
   ],
   "source": [
    "# access using key:\n",
    "data[\"James\"] = \"new\"\n",
    "print(data[\"James\"])\n",
    "\n",
    "print(data)\n",
    "# can NOT access using index!\n",
    "# print(data[0])"
   ]
  },
  {
   "cell_type": "code",
   "execution_count": 71,
   "metadata": {},
   "outputs": [
    {
     "name": "stdout",
     "output_type": "stream",
     "text": [
      "{'James': 'new', 'David': 2, 'Lisa': 3, 'Linda': 4, 'Tom': 10}\n"
     ]
    }
   ],
   "source": [
    "# add\n",
    "data[\"Tom\"] = 10\n",
    "print(data)"
   ]
  },
  {
   "cell_type": "code",
   "execution_count": 72,
   "metadata": {},
   "outputs": [
    {
     "name": "stdout",
     "output_type": "stream",
     "text": [
      "{'James': 'new', 'David': 2, 'Linda': 4, 'Tom': 10}\n"
     ]
    }
   ],
   "source": [
    "# delete\n",
    "del data[\"Lisa\"]\n",
    "print(data)"
   ]
  },
  {
   "cell_type": "code",
   "execution_count": 73,
   "metadata": {},
   "outputs": [
    {
     "name": "stdout",
     "output_type": "stream",
     "text": [
      "True False False\n"
     ]
    }
   ],
   "source": [
    "# logical in\n",
    "print(\"James\" in data, 1 in data, \"Bob\" in data)"
   ]
  },
  {
   "cell_type": "markdown",
   "metadata": {},
   "source": [
    "# 4. set operations in Python\n",
    "\n",
    "`set` could be viewed as a special `dict`, that only have key but don't have value\n",
    "\n",
    "`set` is unordered. The order of items may be different from creation"
   ]
  },
  {
   "cell_type": "code",
   "execution_count": 74,
   "metadata": {},
   "outputs": [],
   "source": [
    "# an empty {} create a dict, not set\n",
    "# to create an empty set, you have to use set()\n",
    "data = set()\n",
    "data = {\"A\", \"B\", \"C\", \"D\"}\n",
    "\n",
    "# equivalent to\n",
    "data = set([\"A\", \"B\", \"C\", \"D\"])\n",
    "data = set({\"A\", \"B\", \"C\", \"D\"})"
   ]
  },
  {
   "cell_type": "code",
   "execution_count": 75,
   "metadata": {},
   "outputs": [
    {
     "name": "stdout",
     "output_type": "stream",
     "text": [
      "A\n",
      "B\n",
      "C\n",
      "D\n"
     ]
    }
   ],
   "source": [
    "# loop over items\n",
    "for item in data:\n",
    "    print(item)\n",
    "    \n",
    "# set object is not subscriptable\n",
    "# print(data[\"A\"])\n",
    "\n",
    "# can NOT access using index!\n",
    "# print(data[0])"
   ]
  },
  {
   "cell_type": "code",
   "execution_count": 78,
   "metadata": {},
   "outputs": [
    {
     "name": "stdout",
     "output_type": "stream",
     "text": [
      "{('C', 'D'), ('A', 'B')}\n"
     ]
    }
   ],
   "source": [
    "new_data = set([(\"A\", \"B\"), (\"C\", \"D\")])\n",
    "\n",
    "print(new_data)"
   ]
  },
  {
   "cell_type": "code",
   "execution_count": 81,
   "metadata": {},
   "outputs": [
    {
     "name": "stdout",
     "output_type": "stream",
     "text": [
      "True False\n",
      "False\n"
     ]
    }
   ],
   "source": [
    "# logical in\n",
    "print(\"A\" in data, \"Z\" in data)\n",
    "\n",
    "\n",
    "print((\"A\", \"B\") in new_data)\n",
    "print((\"A\", \"C\") in new_data)"
   ]
  },
  {
   "cell_type": "code",
   "execution_count": 82,
   "metadata": {},
   "outputs": [
    {
     "name": "stdout",
     "output_type": "stream",
     "text": [
      "{'B', 'C', 'D', 'A', 'E'}\n"
     ]
    }
   ],
   "source": [
    "# add\n",
    "data.add(\"E\")\n",
    "# duplicated item will not appear twice\n",
    "data.add(\"A\")\n",
    "print(data)"
   ]
  },
  {
   "cell_type": "code",
   "execution_count": 83,
   "metadata": {},
   "outputs": [
    {
     "name": "stdout",
     "output_type": "stream",
     "text": [
      "{'B', 'C', 'D', 'E'}\n"
     ]
    }
   ],
   "source": [
    "# delete\n",
    "data.remove(\"A\")\n",
    "print(data)"
   ]
  },
  {
   "cell_type": "code",
   "execution_count": 3,
   "metadata": {},
   "outputs": [
    {
     "ename": "IndexError",
     "evalue": "list index out of range",
     "output_type": "error",
     "traceback": [
      "\u001b[0;31m---------------------------------------------------------------------------\u001b[0m",
      "\u001b[0;31mIndexError\u001b[0m                                Traceback (most recent call last)",
      "Input \u001b[0;32mIn [3]\u001b[0m, in \u001b[0;36m<cell line: 1>\u001b[0;34m()\u001b[0m\n\u001b[1;32m      3\u001b[0m \u001b[38;5;28;01mfor\u001b[39;00m line \u001b[38;5;129;01min\u001b[39;00m input_file:\n\u001b[1;32m      4\u001b[0m     values \u001b[38;5;241m=\u001b[39m line\u001b[38;5;241m.\u001b[39mstrip()\u001b[38;5;241m.\u001b[39msplit(\u001b[38;5;124m'\u001b[39m\u001b[38;5;124m,\u001b[39m\u001b[38;5;124m'\u001b[39m)   \u001b[38;5;66;03m#Split line with \",\" as separator character\u001b[39;00m\n\u001b[0;32m----> 6\u001b[0m     values_to_write \u001b[38;5;241m=\u001b[39m [values[\u001b[38;5;241m0\u001b[39m], \u001b[43mvalues\u001b[49m\u001b[43m[\u001b[49m\u001b[38;5;241;43m-\u001b[39;49m\u001b[38;5;241;43m2\u001b[39;49m\u001b[43m]\u001b[49m, values[\u001b[38;5;241m-\u001b[39m\u001b[38;5;241m1\u001b[39m]]\n\u001b[1;32m      7\u001b[0m     output_file\u001b[38;5;241m.\u001b[39mwrite(\u001b[38;5;124m'\u001b[39m\u001b[38;5;124m,\u001b[39m\u001b[38;5;124m'\u001b[39m\u001b[38;5;241m.\u001b[39mjoin(values_to_write)\u001b[38;5;241m+\u001b[39m \u001b[38;5;124m'\u001b[39m\u001b[38;5;130;01m\\n\u001b[39;00m\u001b[38;5;124m'\u001b[39m)\n",
      "\u001b[0;31mIndexError\u001b[0m: list index out of range"
     ]
    }
   ],
   "source": [
    "with open(\"students-scores.csv\", 'r') as input_file:\n",
    "    with open(\"grades.csv\", 'w') as output_file:\n",
    "        for line in input_file:\n",
    "            values = line.strip().split(',')   #Split line with \",\" as separator character\n",
    "            values_to_write = [values[0], values[-2], values[-1]]\n",
    "            output_file.write(','.join(values_to_write)+ '\\n')"
   ]
  },
  {
   "cell_type": "code",
   "execution_count": null,
   "metadata": {},
   "outputs": [],
   "source": []
  },
  {
   "cell_type": "code",
   "execution_count": null,
   "metadata": {},
   "outputs": [],
   "source": []
  }
 ],
 "metadata": {
  "kernelspec": {
   "display_name": "Python 3 (ipykernel)",
   "language": "python",
   "name": "python3"
  },
  "language_info": {
   "codemirror_mode": {
    "name": "ipython",
    "version": 3
   },
   "file_extension": ".py",
   "mimetype": "text/x-python",
   "name": "python",
   "nbconvert_exporter": "python",
   "pygments_lexer": "ipython3",
   "version": "3.8.15"
  },
  "vscode": {
   "interpreter": {
    "hash": "916dbcbb3f70747c44a77c7bcd40155683ae19c65e1c03b4aa3499c5328201f1"
   }
  }
 },
 "nbformat": 4,
 "nbformat_minor": 4
}
