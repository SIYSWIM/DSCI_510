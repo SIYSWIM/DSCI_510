{
 "cells": [
  {
   "cell_type": "markdown",
   "id": "c02b4a9b",
   "metadata": {},
   "source": [
    "### Welcome to DSCI 510 Lab9b\n",
    "\n",
    "We forgot to include bonus questions in Lab9. Sorry. Here is the addendum.<br>\n",
    "This assignment is due today, Saturday, April 1, 2023, at 11:11pm<br>\n",
    "Please read this whole page before starting."
   ]
  },
  {
   "cell_type": "markdown",
   "id": "29178887",
   "metadata": {},
   "source": [
    "## BQ1: Decipherment (3 points)\n",
    "Decipher the following message. You may use your Homework 1 code."
   ]
  },
  {
   "cell_type": "code",
   "execution_count": 1,
   "id": "eaee6968",
   "metadata": {},
   "outputs": [],
   "source": [
    "encrypted_message = 'ykjcnwpqhwpekjo kj yknnayphu zayeldanejc pdeo iaoowca. dwllu wlneh bkkho zwu.'\n",
    "decrypted_message = 'Replace this string with your decrypted message.'"
   ]
  },
  {
   "cell_type": "markdown",
   "id": "032b83ea",
   "metadata": {},
   "source": [
    "## BQ2: File Compression Optimization (10 points)\n",
    "In a world with explosive data growth, efficient file compression becomes ever more important. \n",
    "\n",
    "__Part A:__ To enable optimized file compression, write a program that sorts the bits of given file, placing all the 0s at the front and all the 1s at the end. Make sure not to lose or add any 0s or 1s."
   ]
  },
  {
   "cell_type": "raw",
   "id": "b80bf9ec",
   "metadata": {},
   "source": [
    "# Put your code here"
   ]
  },
  {
   "cell_type": "markdown",
   "id": "a6b25bf4",
   "metadata": {},
   "source": [
    "__Part B:__ Evaluate your program on the file _GettysburgAddress.txt_. Apply the compression tool _gzip_ to both the original Gettysburg Address file and the bit-sorted version, and quantify the reduction in file size."
   ]
  },
  {
   "cell_type": "raw",
   "id": "6d418767",
   "metadata": {},
   "source": [
    "# Put your analysis here"
   ]
  },
  {
   "cell_type": "markdown",
   "id": "e693fae5",
   "metadata": {},
   "source": [
    "Please include your bit-sorted GettysburgAddress file `GettysburgAddress.bitsort` with your submission."
   ]
  },
  {
   "cell_type": "markdown",
   "id": "c78e4530",
   "metadata": {},
   "source": [
    "### BQ3: Software Sinification (12 points)\n",
    "Based on ever increasing international demand, the USC Data Science Program has decided to offer some data science sections in Chinese. To support this new initiative, several components of DSCI 510 need to be updated.\n",
    "\n",
    "Write a program that converts a regular (English) Python program to Chinese Python.\n",
    "\n",
    "__Sample input:__"
   ]
  },
  {
   "cell_type": "raw",
   "id": "87f12d8e",
   "metadata": {},
   "source": [
    "import sys\n",
    "filenames = sys.argv[1:]\n",
    "\n",
    "def fixline(file):\n",
    "    text = open(file).read()\n",
    "    text = text.replace('\\n\\r', '\\n')\n",
    "    return text\n",
    "\n",
    "for file in filenames:\n",
    "    print(fixline(file))"
   ]
  },
  {
   "cell_type": "markdown",
   "id": "e1c0aecf",
   "metadata": {},
   "source": [
    "__Sample output:__"
   ]
  },
  {
   "cell_type": "raw",
   "id": "231270e3",
   "metadata": {},
   "source": [
    "载入 系统\n",
    "文件名 = 系统.参数[1:]\n",
    "\n",
    "定义 修正行尾(文件):\n",
    "    内文 = 打开(文件).读入()\n",
    "    内文 = 内文.替换('\\n\\r','\\n')\n",
    "    传回 内文\n",
    "\n",
    "取 文件 自 文件名:\n",
    "    写(修正行尾(文件))"
   ]
  },
  {
   "cell_type": "raw",
   "id": "e253090e",
   "metadata": {},
   "source": [
    "# Put your code here"
   ]
  },
  {
   "cell_type": "markdown",
   "id": "18a125f8",
   "metadata": {},
   "source": [
    "## Important Note\n",
    "__All questions in this lab assignment are optional.__"
   ]
  }
 ],
 "metadata": {
  "kernelspec": {
   "display_name": "Python 3 (ipykernel)",
   "language": "python",
   "name": "python3"
  },
  "language_info": {
   "codemirror_mode": {
    "name": "ipython",
    "version": 3
   },
   "file_extension": ".py",
   "mimetype": "text/x-python",
   "name": "python",
   "nbconvert_exporter": "python",
   "pygments_lexer": "ipython3",
   "version": "3.11.0"
  }
 },
 "nbformat": 4,
 "nbformat_minor": 5
}
