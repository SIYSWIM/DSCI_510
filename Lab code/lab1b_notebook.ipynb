{
 "cells": [
  {
   "attachments": {},
   "cell_type": "markdown",
   "metadata": {},
   "source": [
    "# Lab 1b\n",
    "---\n",
    "Hello and welcome to lab 1b (01/20/2023). \n",
    "\n",
    "This file is lecture note. It's not your lab assignment.\n",
    "\n",
    "The goal for this lab session is to help you build a knowledge graph of all the different concepts in Python."
   ]
  },
  {
   "attachments": {},
   "cell_type": "markdown",
   "metadata": {},
   "source": [
    "# 0. Von Neumann architecture\n",
    "<img src=\"https://upload.wikimedia.org/wikipedia/commons/thumb/e/e5/Von_Neumann_Architecture.svg/1920px-Von_Neumann_Architecture.svg.png\" width=\"400\">"
   ]
  },
  {
   "attachments": {},
   "cell_type": "markdown",
   "metadata": {},
   "source": [
    "# 1. Variable and Operator\n",
    "\n",
    "1. Variable, Assignment: =\n",
    "   * Python is dynamically typed, but it is still typed. Each variable have its type. You could know it's type by using the `type()` function.<br>\n",
    "Variable's type is determined when assigning its value.\n",
    "   * `int`: Integer<br>\n",
    "   * `float`: Floating point number<br>\n",
    "   * `str`: String<br>\n",
    "\n",
    "2. Logical Operator: ==, !=, is, and, or\n",
    "   * is: check whether they are the same object (memory location)\n",
    "   * ==: check whether their content is the same"
   ]
  },
  {
   "cell_type": "code",
   "execution_count": null,
   "metadata": {},
   "outputs": [],
   "source": [
    "temp_f = 68\n",
    "print(type(temp_f))\n",
    "\n",
    "temp_f = 68.0\n",
    "print(type(temp_f))\n",
    "\n",
    "temp_f = \"68\"\n",
    "print(type(temp_f))\n",
    "\n",
    "temp_f = \"68.0\"\n",
    "print(type(temp_f))"
   ]
  },
  {
   "cell_type": "code",
   "execution_count": null,
   "metadata": {},
   "outputs": [],
   "source": [
    "x = True\n",
    "y = True\n",
    "\n",
    "print(x and y)\n",
    "\n"
   ]
  },
  {
   "cell_type": "code",
   "execution_count": null,
   "metadata": {},
   "outputs": [],
   "source": [
    "x = 10\n",
    "y = x\n",
    "x = 20\n",
    "print(x, y)\n",
    "\n",
    "# primtive type"
   ]
  },
  {
   "cell_type": "code",
   "execution_count": null,
   "metadata": {},
   "outputs": [],
   "source": [
    "x = [1, 2]\n",
    "y = x\n",
    "x[0] = 10\n",
    "print(x, y)\n",
    "\n",
    "# container/reference/compound type in Python"
   ]
  },
  {
   "attachments": {},
   "cell_type": "markdown",
   "metadata": {},
   "source": [
    "# 2. Control Flow in Python\n",
    "\n",
    "1. (Default) line by line execution\n",
    "2. Conditional execution: if/else.\n",
    "    1. Exercise: Print \"Pass\" if score is greater than 60, \"Failed\" otherwise.\n",
    "3. Loop execution: for/while:\n",
    "    1. Exercise: Calculate the sum from 1 to 100.\n",
    "    2. Exercise: Calculate the sum from 1 to 100, but only for the odd numbers."
   ]
  },
  {
   "cell_type": "code",
   "execution_count": null,
   "metadata": {},
   "outputs": [],
   "source": [
    "score = float(input())\n",
    "attend = float(input())\n",
    "\n",
    "# score > 60, attend > 50\n",
    "if score > 60 and attend > 50:\n",
    "    print(\"Pass\")\n",
    "else:\n",
    "    print(\"Failed\")"
   ]
  },
  {
   "cell_type": "code",
   "execution_count": null,
   "metadata": {},
   "outputs": [],
   "source": [
    "26 % 2"
   ]
  },
  {
   "cell_type": "code",
   "execution_count": null,
   "metadata": {},
   "outputs": [],
   "source": [
    "count = 0\n",
    "i = 1\n",
    "while i <= 100:\n",
    "    count += i\n",
    "    i+=1\n",
    "print(count)"
   ]
  },
  {
   "cell_type": "code",
   "execution_count": null,
   "metadata": {},
   "outputs": [],
   "source": [
    "count = 0\n",
    "for i in range(1, 100+1):\n",
    "    count += i\n",
    "print(count)"
   ]
  },
  {
   "cell_type": "code",
   "execution_count": null,
   "metadata": {},
   "outputs": [],
   "source": [
    "count = 0\n",
    "for i in range(1, 100+1):\n",
    "    if i % 7 == 1:\n",
    "        count += i\n",
    "print(count)"
   ]
  },
  {
   "cell_type": "code",
   "execution_count": null,
   "metadata": {},
   "outputs": [],
   "source": [
    "9 % 3"
   ]
  },
  {
   "attachments": {},
   "cell_type": "markdown",
   "metadata": {},
   "source": [
    "# 3. Function\n",
    "Python has a number of built-in functions such as `print()`<br>\n",
    "* Reusable\n",
    "* More generalizeable\n",
    "\n",
    "But you can define your own functions as well, and then use them repeatedly.\n",
    "\n",
    "The function defined below computes the circumference of a circle. (For explanations, see below.)"
   ]
  },
  {
   "cell_type": "code",
   "execution_count": null,
   "metadata": {},
   "outputs": [],
   "source": [
    "def sum_between(start, end):\n",
    "    count = 0\n",
    "    for i in range(start, end+1):\n",
    "        count += i\n",
    "    print(count)\n",
    "\n",
    "# sum_between(-10, 1000)"
   ]
  },
  {
   "cell_type": "code",
   "execution_count": null,
   "metadata": {},
   "outputs": [],
   "source": [
    "import math\n",
    "\n",
    "def circle_circumference(radius):\n",
    "    circumference = 2 * math.pi * radius\n",
    "    return circumference\n",
    "\n",
    "print(circle_circumference(1))\n",
    "print(circle_circumference(2.5))"
   ]
  },
  {
   "attachments": {},
   "cell_type": "markdown",
   "metadata": {},
   "source": [
    "### Explanations\n",
    "- The first line imports a Python package called [math](https://docs.python.org/3/library/math.html). It provides functions such as _math.log()_ and constants such as _math.pi_ (3.14159...).\n",
    "- The keyword __def__ starts the definition of a new function. It is followed by the name of the function, _circle_circumference()_.\n",
    "- A function has 0 or more __parameters__ (inside the parentheses). In this case there is 1 parameter, _radius_.\n",
    "- Most functions _return_ some sort of result, here the _circumference_.\n",
    "- Optionally, you can provide __type hints__ for the parameters and the result, such as _float_ for the parameter _radius_. Such hints can improve documentation and can help IDEs (integrated develpment environments) to find program inconsistencies. The _float_ after the -> indicates the expected result type of the function."
   ]
  },
  {
   "cell_type": "code",
   "execution_count": null,
   "metadata": {},
   "outputs": [],
   "source": [
    "def circle_circumference(radius: float) -> float:\n",
    "    circumference = 2 * math.pi * radius\n",
    "    return circumference"
   ]
  },
  {
   "attachments": {},
   "cell_type": "markdown",
   "metadata": {},
   "source": [
    "### Return value of a function\n",
    "- Not all functions return a value. Some might print something. Others might modify data.\n",
    "- The function below computes and prints the area and perimeter of a rectangle. The function has two parameters, _length_ and _width_, both of type _float_, returning no result (_None_)."
   ]
  },
  {
   "cell_type": "code",
   "execution_count": null,
   "metadata": {},
   "outputs": [],
   "source": [
    "def print_rectangle_info(length, width):\n",
    "    area = length * width\n",
    "    perimeter = 2 * (length + width)\n",
    "    print(\"Length:\", length, \"Width:\", width, \"Area:\", area, \"Perimeter:\", perimeter)\n",
    "\n",
    "res = print_rectangle_info(1, 1)\n",
    "print(res)\n",
    "# print_rectangle_info(8, 12.5)"
   ]
  },
  {
   "attachments": {},
   "cell_type": "markdown",
   "metadata": {},
   "source": [
    "### Function with multiple return values"
   ]
  },
  {
   "cell_type": "code",
   "execution_count": 40,
   "metadata": {},
   "outputs": [],
   "source": [
    "def rectangle_info(length, width):\n",
    "    area = length * width\n",
    "    perimeter = 2 * (length + width)\n",
    "    return area, perimeter\n",
    "\n",
    "#print(rectangle_info(1, 1))\n",
    "#print(rectangle_info(8, 12.5))"
   ]
  },
  {
   "attachments": {},
   "cell_type": "markdown",
   "metadata": {},
   "source": [
    "### How to call a Function\n",
    "\n",
    "1. Function work in Two phases.\n",
    "    1. Define. Define the logic of the function, but not actually running it. Function parameters are placeholders.\n",
    "    2. Call. Run the logic of the function. Function parameters get their value based on how the function is called.\n",
    "2. When calling the function, actual values are assigned to parameters based on arguments."
   ]
  },
  {
   "attachments": {},
   "cell_type": "markdown",
   "metadata": {},
   "source": [
    "### Learn to use Python built-in functions.\n",
    "\n",
    "Learning Python is both about learning its syntax, and its common functions.\n",
    "\n",
    "For example, calcualte the minimum/maximum/sum for a list."
   ]
  },
  {
   "attachments": {},
   "cell_type": "markdown",
   "metadata": {},
   "source": [
    "# 4. In class exercise (This is not your lab assignment!)\n",
    "    1. Write a function to convert from celsius to fahrenheit\n",
    "    2. Write a function to calcualte area of a circle\n",
    "    3. Check whether a given year is leap year\n",
    "    4. Compute the type of line between two points.\n",
    "\n",
    "### The line between two 2D points coud have 4 types:\n",
    "* -1: _invalid_. The two points are the same.\n",
    "* 0: _neither_. Not vertical or horizental.\n",
    "* 1: _horizental_. Parallel to x-axis.\n",
    "* 2: _vertical_. Parallel to y-axis.\n",
    "\n",
    "\n",
    "Implement function: `type_line_2d`  \n",
    "Argument:  \n",
    "* (x1, y1): _tuple(float, float)_. X, Y coordinate of the first point a.  \n",
    "* (x2, y2): _tuple(float, float)_. X, Y coordinate of the second point b.  \n",
    "\n",
    "Return:\n",
    "* An int variable. Must be one of -1, 0, 1 ,2."
   ]
  },
  {
   "cell_type": "code",
   "execution_count": 44,
   "metadata": {},
   "outputs": [
    {
     "data": {
      "text/plain": [
       "100.4"
      ]
     },
     "execution_count": 44,
     "metadata": {},
     "output_type": "execute_result"
    }
   ],
   "source": [
    "def celsius_to_fahrenheit(temp_c):\n",
    "    temp_f = temp_c * 9 / 5 + 32\n",
    "    return temp_f\n",
    "celsius_to_fahrenheit(38)"
   ]
  },
  {
   "cell_type": "code",
   "execution_count": 48,
   "metadata": {},
   "outputs": [
    {
     "data": {
      "text/plain": [
       "3.141592653589793"
      ]
     },
     "execution_count": 48,
     "metadata": {},
     "output_type": "execute_result"
    }
   ],
   "source": [
    "import math\n",
    "def area_circle(radius):\n",
    "    return math.pi * radius**2\n",
    "area_circle(1)"
   ]
  },
  {
   "cell_type": "code",
   "execution_count": 52,
   "metadata": {},
   "outputs": [
    {
     "data": {
      "text/plain": [
       "True"
      ]
     },
     "execution_count": 52,
     "metadata": {},
     "output_type": "execute_result"
    }
   ],
   "source": [
    "def is_leap_year(year):\n",
    "    if (year % 4 == 0 and year % 100 != 0) or year % 400 == 0:\n",
    "        return True\n",
    "    else:\n",
    "        return False\n",
    "is_leap_year(2024)"
   ]
  },
  {
   "cell_type": "code",
   "execution_count": null,
   "metadata": {},
   "outputs": [],
   "source": [
    "def type_line_2d(a, b):\n",
    "    if a[0] == b[0] and a[1] == b[1]:  # both x, y coordinate are the same\n",
    "        return -1\n",
    "    elif a[1] == b[1]:  # y coordinate are the same. No need to recheck x coordinate as we know x, y won't be both be the same\n",
    "        return 1\n",
    "    elif a[0] == b[0]:  # x coordinate are the same. No need to recheck y coordinate as we know x, y won't be both be the same\n",
    "        return 2\n",
    "    else:\n",
    "        return 0        # other cases"
   ]
  },
  {
   "cell_type": "code",
   "execution_count": null,
   "metadata": {},
   "outputs": [],
   "source": [
    "# Examples:\n",
    "print(type_line_2d((0, 0), (0, 0)))\n",
    "print(type_line_2d((0, 0), (1, 1)))\n",
    "print(type_line_2d((0, 0), (1, 0)))\n",
    "print(type_line_2d((0, 0), (0, 1)))"
   ]
  }
 ],
 "metadata": {
  "kernelspec": {
   "display_name": "base",
   "language": "python",
   "name": "python3"
  },
  "language_info": {
   "codemirror_mode": {
    "name": "ipython",
    "version": 3
   },
   "file_extension": ".py",
   "mimetype": "text/x-python",
   "name": "python",
   "nbconvert_exporter": "python",
   "pygments_lexer": "ipython3",
   "version": "3.9.12 (main, Apr  4 2022, 05:22:27) [MSC v.1916 64 bit (AMD64)]"
  },
  "vscode": {
   "interpreter": {
    "hash": "2befdfe02518c957e8c1c49611d30f3c1e6512f9acbd292cce6a0c17a6ac95c0"
   }
  }
 },
 "nbformat": 4,
 "nbformat_minor": 4
}
